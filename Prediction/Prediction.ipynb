{
 "cells": [
  {
   "cell_type": "code",
   "execution_count": 474,
   "metadata": {},
   "outputs": [],
   "source": [
    "import pandas as pd\n",
    "import numpy as np\n",
    "from sklearn.metrics import classification_report, confusion_matrix, accuracy_score\n",
    "from sklearn import preprocessing\n",
    "from sklearn.model_selection import GridSearchCV"
   ]
  },
  {
   "cell_type": "code",
   "execution_count": 300,
   "metadata": {},
   "outputs": [],
   "source": [
    "training=pd.read_csv(\"training.csv\")"
   ]
  },
  {
   "cell_type": "code",
   "execution_count": 301,
   "metadata": {},
   "outputs": [],
   "source": [
    "X_train=training.iloc[:,4:16]"
   ]
  },
  {
   "cell_type": "code",
   "execution_count": 302,
   "metadata": {},
   "outputs": [
    {
     "data": {
      "text/html": [
       "<div>\n",
       "<style scoped>\n",
       "    .dataframe tbody tr th:only-of-type {\n",
       "        vertical-align: middle;\n",
       "    }\n",
       "\n",
       "    .dataframe tbody tr th {\n",
       "        vertical-align: top;\n",
       "    }\n",
       "\n",
       "    .dataframe thead th {\n",
       "        text-align: right;\n",
       "    }\n",
       "</style>\n",
       "<table border=\"1\" class=\"dataframe\">\n",
       "  <thead>\n",
       "    <tr style=\"text-align: right;\">\n",
       "      <th></th>\n",
       "      <th>Played Value H</th>\n",
       "      <th>Played Value A</th>\n",
       "      <th>Total Value H</th>\n",
       "      <th>Total Value A</th>\n",
       "      <th>Attack H</th>\n",
       "      <th>Midfield H</th>\n",
       "      <th>Defense H</th>\n",
       "      <th>Goalie H</th>\n",
       "      <th>Attack A</th>\n",
       "      <th>Midfield A</th>\n",
       "      <th>Defense A</th>\n",
       "      <th>Goalie A</th>\n",
       "    </tr>\n",
       "  </thead>\n",
       "  <tbody>\n",
       "    <tr>\n",
       "      <th>0</th>\n",
       "      <td>50400000.0</td>\n",
       "      <td>46575000.0</td>\n",
       "      <td>96458000</td>\n",
       "      <td>141390000</td>\n",
       "      <td>16650000.0</td>\n",
       "      <td>4950000.0</td>\n",
       "      <td>25200000.0</td>\n",
       "      <td>3600000.0</td>\n",
       "      <td>10350000.0</td>\n",
       "      <td>12600000.0</td>\n",
       "      <td>15525000.0</td>\n",
       "      <td>8100000.0</td>\n",
       "    </tr>\n",
       "    <tr>\n",
       "      <th>1</th>\n",
       "      <td>61650000.0</td>\n",
       "      <td>60840000.0</td>\n",
       "      <td>205583000</td>\n",
       "      <td>110880000</td>\n",
       "      <td>33750000.0</td>\n",
       "      <td>9000000.0</td>\n",
       "      <td>15300000.0</td>\n",
       "      <td>3600000.0</td>\n",
       "      <td>35100000.0</td>\n",
       "      <td>8550000.0</td>\n",
       "      <td>13590000.0</td>\n",
       "      <td>3600000.0</td>\n",
       "    </tr>\n",
       "    <tr>\n",
       "      <th>2</th>\n",
       "      <td>105750000.0</td>\n",
       "      <td>328500000.0</td>\n",
       "      <td>280125000</td>\n",
       "      <td>489285000</td>\n",
       "      <td>22500000.0</td>\n",
       "      <td>53550000.0</td>\n",
       "      <td>27900000.0</td>\n",
       "      <td>1800000.0</td>\n",
       "      <td>76500000.0</td>\n",
       "      <td>99000000.0</td>\n",
       "      <td>131400000.0</td>\n",
       "      <td>21600000.0</td>\n",
       "    </tr>\n",
       "    <tr>\n",
       "      <th>3</th>\n",
       "      <td>43650000.0</td>\n",
       "      <td>99000000.0</td>\n",
       "      <td>122265000</td>\n",
       "      <td>196785000</td>\n",
       "      <td>15750000.0</td>\n",
       "      <td>14850000.0</td>\n",
       "      <td>12150000.0</td>\n",
       "      <td>900000.0</td>\n",
       "      <td>63900000.0</td>\n",
       "      <td>10800000.0</td>\n",
       "      <td>15300000.0</td>\n",
       "      <td>9000000.0</td>\n",
       "    </tr>\n",
       "    <tr>\n",
       "      <th>4</th>\n",
       "      <td>263250000.0</td>\n",
       "      <td>37575000.0</td>\n",
       "      <td>546030000</td>\n",
       "      <td>118800000</td>\n",
       "      <td>109800000.0</td>\n",
       "      <td>101700000.0</td>\n",
       "      <td>50400000.0</td>\n",
       "      <td>1350000.0</td>\n",
       "      <td>12375000.0</td>\n",
       "      <td>4500000.0</td>\n",
       "      <td>18450000.0</td>\n",
       "      <td>2250000.0</td>\n",
       "    </tr>\n",
       "    <tr>\n",
       "      <th>...</th>\n",
       "      <td>...</td>\n",
       "      <td>...</td>\n",
       "      <td>...</td>\n",
       "      <td>...</td>\n",
       "      <td>...</td>\n",
       "      <td>...</td>\n",
       "      <td>...</td>\n",
       "      <td>...</td>\n",
       "      <td>...</td>\n",
       "      <td>...</td>\n",
       "      <td>...</td>\n",
       "      <td>...</td>\n",
       "    </tr>\n",
       "    <tr>\n",
       "      <th>744</th>\n",
       "      <td>87750000.0</td>\n",
       "      <td>403200000.0</td>\n",
       "      <td>187448000</td>\n",
       "      <td>795830000</td>\n",
       "      <td>24300000.0</td>\n",
       "      <td>18000000.0</td>\n",
       "      <td>41850000.0</td>\n",
       "      <td>3600000.0</td>\n",
       "      <td>115200000.0</td>\n",
       "      <td>130500000.0</td>\n",
       "      <td>103500000.0</td>\n",
       "      <td>54000000.0</td>\n",
       "    </tr>\n",
       "    <tr>\n",
       "      <th>745</th>\n",
       "      <td>119250000.0</td>\n",
       "      <td>516150000.0</td>\n",
       "      <td>267300000</td>\n",
       "      <td>908100000</td>\n",
       "      <td>38700000.0</td>\n",
       "      <td>19800000.0</td>\n",
       "      <td>58500000.0</td>\n",
       "      <td>2250000.0</td>\n",
       "      <td>207000000.0</td>\n",
       "      <td>198000000.0</td>\n",
       "      <td>108000000.0</td>\n",
       "      <td>3150000.0</td>\n",
       "    </tr>\n",
       "    <tr>\n",
       "      <th>746</th>\n",
       "      <td>58950000.0</td>\n",
       "      <td>105300000.0</td>\n",
       "      <td>148941000</td>\n",
       "      <td>173205000</td>\n",
       "      <td>24300000.0</td>\n",
       "      <td>9000000.0</td>\n",
       "      <td>21150000.0</td>\n",
       "      <td>4500000.0</td>\n",
       "      <td>23400000.0</td>\n",
       "      <td>29700000.0</td>\n",
       "      <td>32400000.0</td>\n",
       "      <td>19800000.0</td>\n",
       "    </tr>\n",
       "    <tr>\n",
       "      <th>747</th>\n",
       "      <td>417600000.0</td>\n",
       "      <td>156600000.0</td>\n",
       "      <td>746640000</td>\n",
       "      <td>273825000</td>\n",
       "      <td>178200000.0</td>\n",
       "      <td>115200000.0</td>\n",
       "      <td>101700000.0</td>\n",
       "      <td>22500000.0</td>\n",
       "      <td>94500000.0</td>\n",
       "      <td>27000000.0</td>\n",
       "      <td>34200000.0</td>\n",
       "      <td>900000.0</td>\n",
       "    </tr>\n",
       "    <tr>\n",
       "      <th>748</th>\n",
       "      <td>123300000.0</td>\n",
       "      <td>150750000.0</td>\n",
       "      <td>234540000</td>\n",
       "      <td>343125000</td>\n",
       "      <td>22500000.0</td>\n",
       "      <td>66600000.0</td>\n",
       "      <td>29700000.0</td>\n",
       "      <td>4500000.0</td>\n",
       "      <td>27900000.0</td>\n",
       "      <td>49500000.0</td>\n",
       "      <td>46350000.0</td>\n",
       "      <td>27000000.0</td>\n",
       "    </tr>\n",
       "  </tbody>\n",
       "</table>\n",
       "<p>749 rows × 12 columns</p>\n",
       "</div>"
      ],
      "text/plain": [
       "     Played Value H  Played Value A  Total Value H  Total Value A  \\\n",
       "0        50400000.0      46575000.0       96458000      141390000   \n",
       "1        61650000.0      60840000.0      205583000      110880000   \n",
       "2       105750000.0     328500000.0      280125000      489285000   \n",
       "3        43650000.0      99000000.0      122265000      196785000   \n",
       "4       263250000.0      37575000.0      546030000      118800000   \n",
       "..              ...             ...            ...            ...   \n",
       "744      87750000.0     403200000.0      187448000      795830000   \n",
       "745     119250000.0     516150000.0      267300000      908100000   \n",
       "746      58950000.0     105300000.0      148941000      173205000   \n",
       "747     417600000.0     156600000.0      746640000      273825000   \n",
       "748     123300000.0     150750000.0      234540000      343125000   \n",
       "\n",
       "        Attack H   Midfield H    Defense H    Goalie H     Attack A  \\\n",
       "0     16650000.0    4950000.0   25200000.0   3600000.0   10350000.0   \n",
       "1     33750000.0    9000000.0   15300000.0   3600000.0   35100000.0   \n",
       "2     22500000.0   53550000.0   27900000.0   1800000.0   76500000.0   \n",
       "3     15750000.0   14850000.0   12150000.0    900000.0   63900000.0   \n",
       "4    109800000.0  101700000.0   50400000.0   1350000.0   12375000.0   \n",
       "..           ...          ...          ...         ...          ...   \n",
       "744   24300000.0   18000000.0   41850000.0   3600000.0  115200000.0   \n",
       "745   38700000.0   19800000.0   58500000.0   2250000.0  207000000.0   \n",
       "746   24300000.0    9000000.0   21150000.0   4500000.0   23400000.0   \n",
       "747  178200000.0  115200000.0  101700000.0  22500000.0   94500000.0   \n",
       "748   22500000.0   66600000.0   29700000.0   4500000.0   27900000.0   \n",
       "\n",
       "      Midfield A    Defense A    Goalie A  \n",
       "0     12600000.0   15525000.0   8100000.0  \n",
       "1      8550000.0   13590000.0   3600000.0  \n",
       "2     99000000.0  131400000.0  21600000.0  \n",
       "3     10800000.0   15300000.0   9000000.0  \n",
       "4      4500000.0   18450000.0   2250000.0  \n",
       "..           ...          ...         ...  \n",
       "744  130500000.0  103500000.0  54000000.0  \n",
       "745  198000000.0  108000000.0   3150000.0  \n",
       "746   29700000.0   32400000.0  19800000.0  \n",
       "747   27000000.0   34200000.0    900000.0  \n",
       "748   49500000.0   46350000.0  27000000.0  \n",
       "\n",
       "[749 rows x 12 columns]"
      ]
     },
     "execution_count": 302,
     "metadata": {},
     "output_type": "execute_result"
    }
   ],
   "source": [
    "X_train"
   ]
  },
  {
   "cell_type": "code",
   "execution_count": 303,
   "metadata": {},
   "outputs": [],
   "source": [
    "X=X_train"
   ]
  },
  {
   "cell_type": "code",
   "execution_count": 304,
   "metadata": {},
   "outputs": [],
   "source": [
    "y_train=training.iloc[:,18]"
   ]
  },
  {
   "cell_type": "code",
   "execution_count": 305,
   "metadata": {},
   "outputs": [],
   "source": [
    "testing=pd.read_csv('test.csv')"
   ]
  },
  {
   "cell_type": "code",
   "execution_count": 306,
   "metadata": {},
   "outputs": [],
   "source": [
    "X_test=testing.iloc[:,4:16]"
   ]
  },
  {
   "cell_type": "code",
   "execution_count": 307,
   "metadata": {},
   "outputs": [],
   "source": [
    "X_t=X_test"
   ]
  },
  {
   "cell_type": "code",
   "execution_count": 308,
   "metadata": {},
   "outputs": [],
   "source": [
    "y_test=testing.iloc[:,18]"
   ]
  },
  {
   "cell_type": "code",
   "execution_count": 309,
   "metadata": {},
   "outputs": [],
   "source": [
    "scaler = preprocessing.StandardScaler().fit(X_train)"
   ]
  },
  {
   "cell_type": "code",
   "execution_count": 310,
   "metadata": {},
   "outputs": [],
   "source": [
    "X_test=scaler.transform(X_test)\n",
    "X_train=scaler.transform(X_train)"
   ]
  },
  {
   "cell_type": "code",
   "execution_count": 311,
   "metadata": {},
   "outputs": [],
   "source": [
    "#KNN"
   ]
  },
  {
   "cell_type": "code",
   "execution_count": 347,
   "metadata": {},
   "outputs": [],
   "source": [
    "from sklearn.neighbors import KNeighborsClassifier"
   ]
  },
  {
   "cell_type": "code",
   "execution_count": 348,
   "metadata": {},
   "outputs": [
    {
     "data": {
      "text/plain": [
       "27.367864366808018"
      ]
     },
     "execution_count": 348,
     "metadata": {},
     "output_type": "execute_result"
    }
   ],
   "source": [
    "np.sqrt(len(X_train))"
   ]
  },
  {
   "cell_type": "code",
   "execution_count": 373,
   "metadata": {},
   "outputs": [],
   "source": [
    "knnscores=[]\n",
    "for i in range(3,50):\n",
    "    knn_clf=KNeighborsClassifier(n_neighbors=i).fit(X_train,y_train)\n",
    "    y_pred=knn_clf.predict(X_test)\n",
    "    knnscores.append(accuracy_score(y_test,y_pred))\n",
    "    "
   ]
  },
  {
   "cell_type": "code",
   "execution_count": 376,
   "metadata": {},
   "outputs": [
    {
     "data": {
      "text/plain": [
       "0.5868421052631579"
      ]
     },
     "execution_count": 376,
     "metadata": {},
     "output_type": "execute_result"
    }
   ],
   "source": [
    "#Baseline (Default k = 5 ) score= Accuracy: 0.5394736842105263\n",
    "max(knnscores)"
   ]
  },
  {
   "cell_type": "code",
   "execution_count": 377,
   "metadata": {},
   "outputs": [
    {
     "data": {
      "text/plain": [
       "23"
      ]
     },
     "execution_count": 377,
     "metadata": {},
     "output_type": "execute_result"
    }
   ],
   "source": [
    "knnscores.index(max(knnscores))+3"
   ]
  },
  {
   "cell_type": "code",
   "execution_count": 378,
   "metadata": {},
   "outputs": [],
   "source": [
    "knn_clf=KNeighborsClassifier(n_neighbors=23).fit(X_train,y_train)"
   ]
  },
  {
   "cell_type": "code",
   "execution_count": 465,
   "metadata": {},
   "outputs": [],
   "source": [
    "y_pred_knn=knn_clf.predict(X_test)"
   ]
  },
  {
   "cell_type": "code",
   "execution_count": 467,
   "metadata": {},
   "outputs": [
    {
     "data": {
      "text/html": [
       "<div>\n",
       "<style scoped>\n",
       "    .dataframe tbody tr th:only-of-type {\n",
       "        vertical-align: middle;\n",
       "    }\n",
       "\n",
       "    .dataframe tbody tr th {\n",
       "        vertical-align: top;\n",
       "    }\n",
       "\n",
       "    .dataframe thead th {\n",
       "        text-align: right;\n",
       "    }\n",
       "</style>\n",
       "<table border=\"1\" class=\"dataframe\">\n",
       "  <thead>\n",
       "    <tr style=\"text-align: right;\">\n",
       "      <th></th>\n",
       "      <th>A</th>\n",
       "      <th>D</th>\n",
       "      <th>H</th>\n",
       "    </tr>\n",
       "  </thead>\n",
       "  <tbody>\n",
       "    <tr>\n",
       "      <th>A</th>\n",
       "      <td>86</td>\n",
       "      <td>12</td>\n",
       "      <td>30</td>\n",
       "    </tr>\n",
       "    <tr>\n",
       "      <th>D</th>\n",
       "      <td>20</td>\n",
       "      <td>5</td>\n",
       "      <td>46</td>\n",
       "    </tr>\n",
       "    <tr>\n",
       "      <th>H</th>\n",
       "      <td>33</td>\n",
       "      <td>16</td>\n",
       "      <td>132</td>\n",
       "    </tr>\n",
       "  </tbody>\n",
       "</table>\n",
       "</div>"
      ],
      "text/plain": [
       "    A   D    H\n",
       "A  86  12   30\n",
       "D  20   5   46\n",
       "H  33  16  132"
      ]
     },
     "execution_count": 467,
     "metadata": {},
     "output_type": "execute_result"
    }
   ],
   "source": [
    "labels = np.unique(y_test)\n",
    "result_knn = confusion_matrix(y_test, y_pred_knn)\n",
    "a =  confusion_matrix(y_test, y_pred_knn, labels=labels)\n",
    "pd.DataFrame(a, index=labels, columns=labels)"
   ]
  },
  {
   "cell_type": "code",
   "execution_count": 472,
   "metadata": {},
   "outputs": [
    {
     "name": "stdout",
     "output_type": "stream",
     "text": [
      "Accuracy: 0.5868421052631579\n"
     ]
    }
   ],
   "source": [
    "score_knn = accuracy_score(y_test,y_pred_knn)\n",
    "print(\"Accuracy:\",score_knn)"
   ]
  },
  {
   "cell_type": "code",
   "execution_count": 475,
   "metadata": {},
   "outputs": [],
   "source": [
    "param_grid_knn={\n",
    "    'n_neighbors':range(2,40),\n",
    "    'weights':['uniform','distance'],\n",
    "    'metric':['euclidean','manhattan','minkowski','chebyshev']\n",
    "}"
   ]
  },
  {
   "cell_type": "code",
   "execution_count": 477,
   "metadata": {},
   "outputs": [],
   "source": [
    "gs_knn=GridSearchCV(KNeighborsClassifier(),param_grid=param_grid_knn)"
   ]
  },
  {
   "cell_type": "code",
   "execution_count": 478,
   "metadata": {},
   "outputs": [
    {
     "data": {
      "text/plain": [
       "GridSearchCV(estimator=KNeighborsClassifier(),\n",
       "             param_grid={'metric': ['euclidean', 'manhattan', 'minkowski',\n",
       "                                    'chebyshev'],\n",
       "                         'n_neighbors': range(2, 40),\n",
       "                         'weights': ['uniform', 'distance']})"
      ]
     },
     "execution_count": 478,
     "metadata": {},
     "output_type": "execute_result"
    }
   ],
   "source": [
    "gs_knn.fit(X_train,y_train)"
   ]
  },
  {
   "cell_type": "code",
   "execution_count": 480,
   "metadata": {},
   "outputs": [
    {
     "data": {
      "text/plain": [
       "KNeighborsClassifier(metric='chebyshev', n_neighbors=24, weights='distance')"
      ]
     },
     "execution_count": 480,
     "metadata": {},
     "output_type": "execute_result"
    }
   ],
   "source": [
    "gs_knn.best_estimator_"
   ]
  },
  {
   "cell_type": "code",
   "execution_count": 481,
   "metadata": {},
   "outputs": [],
   "source": [
    "y_pred_knn_gs=gs_knn.predict(X_test)"
   ]
  },
  {
   "cell_type": "code",
   "execution_count": 487,
   "metadata": {},
   "outputs": [
    {
     "name": "stdout",
     "output_type": "stream",
     "text": [
      "Accuracy: 0.5657894736842105\n"
     ]
    }
   ],
   "source": [
    "result_knn_gs = accuracy_score(y_test,y_pred_knn_gs)\n",
    "print(\"Accuracy:\",result_knn_gs)"
   ]
  },
  {
   "cell_type": "code",
   "execution_count": 488,
   "metadata": {},
   "outputs": [],
   "source": [
    "#Best from KNN: K=23, other params at default\n",
    "#Accuracy: 0.5868421052631579"
   ]
  },
  {
   "cell_type": "code",
   "execution_count": 317,
   "metadata": {},
   "outputs": [],
   "source": [
    "#SVM"
   ]
  },
  {
   "cell_type": "code",
   "execution_count": 318,
   "metadata": {},
   "outputs": [],
   "source": [
    "from sklearn import svm"
   ]
  },
  {
   "cell_type": "code",
   "execution_count": 319,
   "metadata": {},
   "outputs": [],
   "source": [
    "linear = svm.SVC(kernel='linear', C=.01, decision_function_shape='ovo').fit(X_train, y_train)"
   ]
  },
  {
   "cell_type": "code",
   "execution_count": 320,
   "metadata": {},
   "outputs": [],
   "source": [
    "y_pred_linear=linear.predict(X_test)"
   ]
  },
  {
   "cell_type": "code",
   "execution_count": 493,
   "metadata": {},
   "outputs": [
    {
     "data": {
      "text/html": [
       "<div>\n",
       "<style scoped>\n",
       "    .dataframe tbody tr th:only-of-type {\n",
       "        vertical-align: middle;\n",
       "    }\n",
       "\n",
       "    .dataframe tbody tr th {\n",
       "        vertical-align: top;\n",
       "    }\n",
       "\n",
       "    .dataframe thead th {\n",
       "        text-align: right;\n",
       "    }\n",
       "</style>\n",
       "<table border=\"1\" class=\"dataframe\">\n",
       "  <thead>\n",
       "    <tr style=\"text-align: right;\">\n",
       "      <th></th>\n",
       "      <th>A</th>\n",
       "      <th>D</th>\n",
       "      <th>H</th>\n",
       "    </tr>\n",
       "  </thead>\n",
       "  <tbody>\n",
       "    <tr>\n",
       "      <th>A</th>\n",
       "      <td>70</td>\n",
       "      <td>0</td>\n",
       "      <td>58</td>\n",
       "    </tr>\n",
       "    <tr>\n",
       "      <th>D</th>\n",
       "      <td>15</td>\n",
       "      <td>0</td>\n",
       "      <td>56</td>\n",
       "    </tr>\n",
       "    <tr>\n",
       "      <th>H</th>\n",
       "      <td>28</td>\n",
       "      <td>0</td>\n",
       "      <td>153</td>\n",
       "    </tr>\n",
       "  </tbody>\n",
       "</table>\n",
       "</div>"
      ],
      "text/plain": [
       "    A  D    H\n",
       "A  70  0   58\n",
       "D  15  0   56\n",
       "H  28  0  153"
      ]
     },
     "execution_count": 493,
     "metadata": {},
     "output_type": "execute_result"
    }
   ],
   "source": [
    "a =  confusion_matrix(y_test, y_pred_linear, labels=labels)\n",
    "pd.DataFrame(a, index=labels, columns=labels)"
   ]
  },
  {
   "cell_type": "code",
   "execution_count": 494,
   "metadata": {},
   "outputs": [
    {
     "name": "stdout",
     "output_type": "stream",
     "text": [
      "Accuracy: 0.5868421052631579\n"
     ]
    }
   ],
   "source": [
    "result_svm_linear = accuracy_score(y_test,y_pred_linear)\n",
    "print(\"Accuracy:\",result2)"
   ]
  },
  {
   "cell_type": "code",
   "execution_count": 323,
   "metadata": {},
   "outputs": [],
   "source": [
    "rbf = svm.SVC(kernel='rbf',  decision_function_shape='ovo').fit(X_train, y_train)\n",
    "poly = svm.SVC(kernel='poly', decision_function_shape='ovo').fit(X_train, y_train)\n",
    "sig = svm.SVC(kernel='sigmoid',  decision_function_shape='ovo').fit(X_train, y_train)"
   ]
  },
  {
   "cell_type": "code",
   "execution_count": 324,
   "metadata": {},
   "outputs": [],
   "source": [
    "y_pred_rbf=rbf.predict(X_test)\n",
    "y_pred_poly=poly.predict(X_test)\n",
    "y_pred_sig=sig.predict(X_test)\n"
   ]
  },
  {
   "cell_type": "code",
   "execution_count": 495,
   "metadata": {},
   "outputs": [
    {
     "name": "stdout",
     "output_type": "stream",
     "text": [
      "Accuracy: 0.5894736842105263\n"
     ]
    }
   ],
   "source": [
    "result_svm_rbf = accuracy_score(y_test,y_pred_rbf)\n",
    "print(\"Accuracy:\",result_svm_rbf)"
   ]
  },
  {
   "cell_type": "code",
   "execution_count": 496,
   "metadata": {},
   "outputs": [
    {
     "name": "stdout",
     "output_type": "stream",
     "text": [
      "Accuracy: 0.5473684210526316\n"
     ]
    }
   ],
   "source": [
    "result_svm_poly = accuracy_score(y_test,y_pred_poly)\n",
    "print(\"Accuracy:\",result_svm_poly)"
   ]
  },
  {
   "cell_type": "code",
   "execution_count": 497,
   "metadata": {},
   "outputs": [
    {
     "name": "stdout",
     "output_type": "stream",
     "text": [
      "Accuracy: 0.5473684210526316\n"
     ]
    }
   ],
   "source": [
    "result_svm_sig = accuracy_score(y_test,y_pred_sig)\n",
    "print(\"Accuracy:\",result_svm_poly)"
   ]
  },
  {
   "cell_type": "code",
   "execution_count": 498,
   "metadata": {},
   "outputs": [
    {
     "data": {
      "text/html": [
       "<div>\n",
       "<style scoped>\n",
       "    .dataframe tbody tr th:only-of-type {\n",
       "        vertical-align: middle;\n",
       "    }\n",
       "\n",
       "    .dataframe tbody tr th {\n",
       "        vertical-align: top;\n",
       "    }\n",
       "\n",
       "    .dataframe thead th {\n",
       "        text-align: right;\n",
       "    }\n",
       "</style>\n",
       "<table border=\"1\" class=\"dataframe\">\n",
       "  <thead>\n",
       "    <tr style=\"text-align: right;\">\n",
       "      <th></th>\n",
       "      <th>A</th>\n",
       "      <th>D</th>\n",
       "      <th>H</th>\n",
       "    </tr>\n",
       "  </thead>\n",
       "  <tbody>\n",
       "    <tr>\n",
       "      <th>A</th>\n",
       "      <td>70</td>\n",
       "      <td>0</td>\n",
       "      <td>58</td>\n",
       "    </tr>\n",
       "    <tr>\n",
       "      <th>D</th>\n",
       "      <td>15</td>\n",
       "      <td>0</td>\n",
       "      <td>56</td>\n",
       "    </tr>\n",
       "    <tr>\n",
       "      <th>H</th>\n",
       "      <td>27</td>\n",
       "      <td>0</td>\n",
       "      <td>154</td>\n",
       "    </tr>\n",
       "  </tbody>\n",
       "</table>\n",
       "</div>"
      ],
      "text/plain": [
       "    A  D    H\n",
       "A  70  0   58\n",
       "D  15  0   56\n",
       "H  27  0  154"
      ]
     },
     "execution_count": 498,
     "metadata": {},
     "output_type": "execute_result"
    }
   ],
   "source": [
    "a =  confusion_matrix(y_test, y_pred_rbf, labels=labels)\n",
    "pd.DataFrame(a, index=labels, columns=labels)"
   ]
  },
  {
   "cell_type": "code",
   "execution_count": 501,
   "metadata": {},
   "outputs": [
    {
     "data": {
      "text/html": [
       "<div>\n",
       "<style scoped>\n",
       "    .dataframe tbody tr th:only-of-type {\n",
       "        vertical-align: middle;\n",
       "    }\n",
       "\n",
       "    .dataframe tbody tr th {\n",
       "        vertical-align: top;\n",
       "    }\n",
       "\n",
       "    .dataframe thead th {\n",
       "        text-align: right;\n",
       "    }\n",
       "</style>\n",
       "<table border=\"1\" class=\"dataframe\">\n",
       "  <thead>\n",
       "    <tr style=\"text-align: right;\">\n",
       "      <th></th>\n",
       "      <th>A</th>\n",
       "      <th>D</th>\n",
       "      <th>H</th>\n",
       "    </tr>\n",
       "  </thead>\n",
       "  <tbody>\n",
       "    <tr>\n",
       "      <th>A</th>\n",
       "      <td>60</td>\n",
       "      <td>9</td>\n",
       "      <td>59</td>\n",
       "    </tr>\n",
       "    <tr>\n",
       "      <th>D</th>\n",
       "      <td>35</td>\n",
       "      <td>12</td>\n",
       "      <td>24</td>\n",
       "    </tr>\n",
       "    <tr>\n",
       "      <th>H</th>\n",
       "      <td>65</td>\n",
       "      <td>18</td>\n",
       "      <td>98</td>\n",
       "    </tr>\n",
       "  </tbody>\n",
       "</table>\n",
       "</div>"
      ],
      "text/plain": [
       "    A   D   H\n",
       "A  60   9  59\n",
       "D  35  12  24\n",
       "H  65  18  98"
      ]
     },
     "execution_count": 501,
     "metadata": {},
     "output_type": "execute_result"
    }
   ],
   "source": [
    "a =  confusion_matrix(y_test, y_pred_sig, labels=labels)\n",
    "pd.DataFrame(a, index=labels, columns=labels)"
   ]
  },
  {
   "cell_type": "code",
   "execution_count": 502,
   "metadata": {},
   "outputs": [
    {
     "data": {
      "text/html": [
       "<div>\n",
       "<style scoped>\n",
       "    .dataframe tbody tr th:only-of-type {\n",
       "        vertical-align: middle;\n",
       "    }\n",
       "\n",
       "    .dataframe tbody tr th {\n",
       "        vertical-align: top;\n",
       "    }\n",
       "\n",
       "    .dataframe thead th {\n",
       "        text-align: right;\n",
       "    }\n",
       "</style>\n",
       "<table border=\"1\" class=\"dataframe\">\n",
       "  <thead>\n",
       "    <tr style=\"text-align: right;\">\n",
       "      <th></th>\n",
       "      <th>A</th>\n",
       "      <th>D</th>\n",
       "      <th>H</th>\n",
       "    </tr>\n",
       "  </thead>\n",
       "  <tbody>\n",
       "    <tr>\n",
       "      <th>A</th>\n",
       "      <td>54</td>\n",
       "      <td>5</td>\n",
       "      <td>69</td>\n",
       "    </tr>\n",
       "    <tr>\n",
       "      <th>D</th>\n",
       "      <td>7</td>\n",
       "      <td>4</td>\n",
       "      <td>60</td>\n",
       "    </tr>\n",
       "    <tr>\n",
       "      <th>H</th>\n",
       "      <td>25</td>\n",
       "      <td>6</td>\n",
       "      <td>150</td>\n",
       "    </tr>\n",
       "  </tbody>\n",
       "</table>\n",
       "</div>"
      ],
      "text/plain": [
       "    A  D    H\n",
       "A  54  5   69\n",
       "D   7  4   60\n",
       "H  25  6  150"
      ]
     },
     "execution_count": 502,
     "metadata": {},
     "output_type": "execute_result"
    }
   ],
   "source": [
    "a =  confusion_matrix(y_test, y_pred_poly, labels=labels)\n",
    "pd.DataFrame(a, index=labels, columns=labels)"
   ]
  },
  {
   "cell_type": "code",
   "execution_count": 383,
   "metadata": {},
   "outputs": [],
   "source": [
    "#Hyperparameter Tuning for SVM"
   ]
  },
  {
   "cell_type": "code",
   "execution_count": 473,
   "metadata": {},
   "outputs": [],
   "source": [
    "from sklearn.svm import SVC"
   ]
  },
  {
   "cell_type": "code",
   "execution_count": 606,
   "metadata": {},
   "outputs": [],
   "source": [
    "param_grid={\n",
    "    'kernel':['rbf'],\n",
    "    'C' : np.linspace(.01,10,100),\n",
    "    'gamma':np.linspace(.001,1,100)\n",
    "}"
   ]
  },
  {
   "cell_type": "code",
   "execution_count": 402,
   "metadata": {},
   "outputs": [],
   "source": [
    "gs_svc=GridSearchCV(SVC(decision_function_shape='ovo'),param_grid=param_grid)"
   ]
  },
  {
   "cell_type": "code",
   "execution_count": 403,
   "metadata": {},
   "outputs": [
    {
     "data": {
      "text/plain": [
       "GridSearchCV(estimator=SVC(decision_function_shape='ovo'),\n",
       "             param_grid={'C': array([ 0.01      ,  0.11090909,  0.21181818,  0.31272727,  0.41363636,\n",
       "        0.51454545,  0.61545455,  0.71636364,  0.81727273,  0.91818182,\n",
       "        1.01909091,  1.12      ,  1.22090909,  1.32181818,  1.42272727,\n",
       "        1.52363636,  1.62454545,  1.72545455,  1.82636364,  1.92727273,\n",
       "        2.02818182,  2.12909091,  2.23      ,  2.33090909,  2.43181818,\n",
       "        2.53272727,  2...\n",
       "       0.65690909, 0.667     , 0.67709091, 0.68718182, 0.69727273,\n",
       "       0.70736364, 0.71745455, 0.72754545, 0.73763636, 0.74772727,\n",
       "       0.75781818, 0.76790909, 0.778     , 0.78809091, 0.79818182,\n",
       "       0.80827273, 0.81836364, 0.82845455, 0.83854545, 0.84863636,\n",
       "       0.85872727, 0.86881818, 0.87890909, 0.889     , 0.89909091,\n",
       "       0.90918182, 0.91927273, 0.92936364, 0.93945455, 0.94954545,\n",
       "       0.95963636, 0.96972727, 0.97981818, 0.98990909, 1.        ]),\n",
       "                         'kernel': ['rbf']})"
      ]
     },
     "execution_count": 403,
     "metadata": {},
     "output_type": "execute_result"
    }
   ],
   "source": [
    "gs_svc.fit(X_train,y_train)"
   ]
  },
  {
   "cell_type": "code",
   "execution_count": 405,
   "metadata": {},
   "outputs": [],
   "source": [
    "svc_rbf=SVC(C=4.35,decision_function_shape='ovo',gamma=.001).fit(X_train,y_train)"
   ]
  },
  {
   "cell_type": "code",
   "execution_count": 406,
   "metadata": {},
   "outputs": [],
   "source": [
    "y_pred_rbf=svc_rbf.predict(X_test)"
   ]
  },
  {
   "cell_type": "code",
   "execution_count": 409,
   "metadata": {},
   "outputs": [
    {
     "name": "stdout",
     "output_type": "stream",
     "text": [
      "Accuracy: 0.5894736842105263\n"
     ]
    }
   ],
   "source": [
    "result_rbf = accuracy_score(y_test,y_pred_rbf)\n",
    "print(\"Accuracy:\",result_rbf)"
   ]
  },
  {
   "cell_type": "code",
   "execution_count": 411,
   "metadata": {},
   "outputs": [],
   "source": [
    "svc_rbf_lg=SVC(C=4.35,decision_function_shape='ovo',gamma=.0001).fit(X_train,y_train)"
   ]
  },
  {
   "cell_type": "code",
   "execution_count": 412,
   "metadata": {},
   "outputs": [],
   "source": [
    "y_pred_rbf_lg=svc_rbf.predict(X_test)"
   ]
  },
  {
   "cell_type": "code",
   "execution_count": 413,
   "metadata": {},
   "outputs": [
    {
     "name": "stdout",
     "output_type": "stream",
     "text": [
      "Accuracy: 0.5894736842105263\n"
     ]
    }
   ],
   "source": [
    "result_rbf_lg = accuracy_score(y_test,y_pred_rbf_lg)\n",
    "print(\"Accuracy:\",result_rbf_lg)"
   ]
  },
  {
   "cell_type": "code",
   "execution_count": 415,
   "metadata": {},
   "outputs": [],
   "source": [
    "param_grid2={\n",
    "    'kernel':['linear'],\n",
    "    'C' : np.linspace(.01,10,100),\n",
    "    'gamma':np.linspace(.001,1,100)\n",
    "}"
   ]
  },
  {
   "cell_type": "code",
   "execution_count": 416,
   "metadata": {},
   "outputs": [],
   "source": [
    "gs_svc=GridSearchCV(SVC(decision_function_shape='ovo'),param_grid=param_grid2)"
   ]
  },
  {
   "cell_type": "code",
   "execution_count": 417,
   "metadata": {},
   "outputs": [
    {
     "data": {
      "text/plain": [
       "GridSearchCV(estimator=SVC(decision_function_shape='ovo'),\n",
       "             param_grid={'C': array([ 0.01      ,  0.11090909,  0.21181818,  0.31272727,  0.41363636,\n",
       "        0.51454545,  0.61545455,  0.71636364,  0.81727273,  0.91818182,\n",
       "        1.01909091,  1.12      ,  1.22090909,  1.32181818,  1.42272727,\n",
       "        1.52363636,  1.62454545,  1.72545455,  1.82636364,  1.92727273,\n",
       "        2.02818182,  2.12909091,  2.23      ,  2.33090909,  2.43181818,\n",
       "        2.53272727,  2...\n",
       "       0.65690909, 0.667     , 0.67709091, 0.68718182, 0.69727273,\n",
       "       0.70736364, 0.71745455, 0.72754545, 0.73763636, 0.74772727,\n",
       "       0.75781818, 0.76790909, 0.778     , 0.78809091, 0.79818182,\n",
       "       0.80827273, 0.81836364, 0.82845455, 0.83854545, 0.84863636,\n",
       "       0.85872727, 0.86881818, 0.87890909, 0.889     , 0.89909091,\n",
       "       0.90918182, 0.91927273, 0.92936364, 0.93945455, 0.94954545,\n",
       "       0.95963636, 0.96972727, 0.97981818, 0.98990909, 1.        ]),\n",
       "                         'kernel': ['linear']})"
      ]
     },
     "execution_count": 417,
     "metadata": {},
     "output_type": "execute_result"
    }
   ],
   "source": [
    "gs_svc.fit(X_train,y_train)"
   ]
  },
  {
   "cell_type": "code",
   "execution_count": 419,
   "metadata": {},
   "outputs": [
    {
     "data": {
      "text/plain": [
       "SVC(C=0.01, decision_function_shape='ovo', gamma=0.001, kernel='linear')"
      ]
     },
     "execution_count": 419,
     "metadata": {},
     "output_type": "execute_result"
    }
   ],
   "source": [
    "gs_svc.best_estimator_"
   ]
  },
  {
   "cell_type": "code",
   "execution_count": 421,
   "metadata": {},
   "outputs": [],
   "source": [
    "svc_linear_gs=SVC(C=.01,decision_function_shape='ovo',gamma=.001).fit(X_train,y_train)"
   ]
  },
  {
   "cell_type": "code",
   "execution_count": 422,
   "metadata": {},
   "outputs": [],
   "source": [
    "y_pred_linear_gs=svc_linear_gs.predict(X_test)"
   ]
  },
  {
   "cell_type": "code",
   "execution_count": 489,
   "metadata": {},
   "outputs": [
    {
     "name": "stdout",
     "output_type": "stream",
     "text": [
      "Accuracy: 0.4763157894736842\n"
     ]
    }
   ],
   "source": [
    "result_linear_gs = accuracy_score(y_test,y_pred_linear_gs)\n",
    "print(\"Accuracy:\",result_linear_gs)"
   ]
  },
  {
   "cell_type": "code",
   "execution_count": 503,
   "metadata": {},
   "outputs": [],
   "source": [
    "#SVM Best Performance:rbf, \n",
    "#Accuracy: 0.5894736842105263"
   ]
  },
  {
   "cell_type": "code",
   "execution_count": 426,
   "metadata": {},
   "outputs": [],
   "source": [
    "#NN"
   ]
  },
  {
   "cell_type": "code",
   "execution_count": 331,
   "metadata": {},
   "outputs": [],
   "source": [
    "from sklearn.neural_network import MLPClassifier"
   ]
  },
  {
   "cell_type": "code",
   "execution_count": 332,
   "metadata": {},
   "outputs": [],
   "source": [
    "mlpclf=MLPClassifier(solver='lbfgs',random_state=1).fit(X_train, y_train)"
   ]
  },
  {
   "cell_type": "code",
   "execution_count": 333,
   "metadata": {},
   "outputs": [],
   "source": [
    "y_pred_mlp=mlpclf.predict(X_test)"
   ]
  },
  {
   "cell_type": "code",
   "execution_count": 334,
   "metadata": {},
   "outputs": [
    {
     "data": {
      "text/html": [
       "<div>\n",
       "<style scoped>\n",
       "    .dataframe tbody tr th:only-of-type {\n",
       "        vertical-align: middle;\n",
       "    }\n",
       "\n",
       "    .dataframe tbody tr th {\n",
       "        vertical-align: top;\n",
       "    }\n",
       "\n",
       "    .dataframe thead th {\n",
       "        text-align: right;\n",
       "    }\n",
       "</style>\n",
       "<table border=\"1\" class=\"dataframe\">\n",
       "  <thead>\n",
       "    <tr style=\"text-align: right;\">\n",
       "      <th></th>\n",
       "      <th>A</th>\n",
       "      <th>D</th>\n",
       "      <th>H</th>\n",
       "    </tr>\n",
       "  </thead>\n",
       "  <tbody>\n",
       "    <tr>\n",
       "      <th>A</th>\n",
       "      <td>47</td>\n",
       "      <td>37</td>\n",
       "      <td>44</td>\n",
       "    </tr>\n",
       "    <tr>\n",
       "      <th>D</th>\n",
       "      <td>23</td>\n",
       "      <td>16</td>\n",
       "      <td>32</td>\n",
       "    </tr>\n",
       "    <tr>\n",
       "      <th>H</th>\n",
       "      <td>35</td>\n",
       "      <td>49</td>\n",
       "      <td>97</td>\n",
       "    </tr>\n",
       "  </tbody>\n",
       "</table>\n",
       "</div>"
      ],
      "text/plain": [
       "    A   D   H\n",
       "A  47  37  44\n",
       "D  23  16  32\n",
       "H  35  49  97"
      ]
     },
     "execution_count": 334,
     "metadata": {},
     "output_type": "execute_result"
    }
   ],
   "source": [
    "labels = np.unique(y_test)\n",
    "result = confusion_matrix(y_test, y_pred_mlp)\n",
    "a =  confusion_matrix(y_test, y_pred_mlp, labels=labels)\n",
    "pd.DataFrame(a, index=labels, columns=labels)"
   ]
  },
  {
   "cell_type": "code",
   "execution_count": 427,
   "metadata": {},
   "outputs": [
    {
     "name": "stdout",
     "output_type": "stream",
     "text": [
      "Accuracy: 0.42105263157894735\n"
     ]
    }
   ],
   "source": [
    "result2 = accuracy_score(y_test,y_pred_mlp)\n",
    "print(\"Accuracy:\",result2)"
   ]
  },
  {
   "cell_type": "code",
   "execution_count": 429,
   "metadata": {},
   "outputs": [],
   "source": [
    "mlpclf_tan=MLPClassifier(solver='lbfgs',random_state=1,activation='tanh').fit(X_train, y_train)"
   ]
  },
  {
   "cell_type": "code",
   "execution_count": 430,
   "metadata": {},
   "outputs": [],
   "source": [
    "y_pred_tan=mlpclf_tan.predict(X_test)"
   ]
  },
  {
   "cell_type": "code",
   "execution_count": 432,
   "metadata": {},
   "outputs": [
    {
     "name": "stdout",
     "output_type": "stream",
     "text": [
      "Accuracy: 0.45\n"
     ]
    }
   ],
   "source": [
    "result_tan = accuracy_score(y_test,y_pred_tan)\n",
    "print(\"Accuracy:\",result_tan)"
   ]
  },
  {
   "cell_type": "code",
   "execution_count": 434,
   "metadata": {},
   "outputs": [],
   "source": [
    "mlpclf_log=MLPClassifier(solver='lbfgs',random_state=1,activation='logistic').fit(X_train, y_train)"
   ]
  },
  {
   "cell_type": "code",
   "execution_count": 435,
   "metadata": {},
   "outputs": [],
   "source": [
    "y_pred_log=mlpclf_log.predict(X_test)"
   ]
  },
  {
   "cell_type": "code",
   "execution_count": 437,
   "metadata": {},
   "outputs": [
    {
     "name": "stdout",
     "output_type": "stream",
     "text": [
      "Accuracy: 0.5052631578947369\n"
     ]
    }
   ],
   "source": [
    "result_log = accuracy_score(y_test,y_pred_log)\n",
    "print(\"Accuracy:\",result_log)"
   ]
  },
  {
   "cell_type": "code",
   "execution_count": 451,
   "metadata": {},
   "outputs": [],
   "source": [
    "mlpclf_log=MLPClassifier(solver='lbfgs',random_state=1,activation='logistic',hidden_layer_sizes=(800,800)).fit(X_train, y_train)"
   ]
  },
  {
   "cell_type": "code",
   "execution_count": 504,
   "metadata": {},
   "outputs": [
    {
     "name": "stdout",
     "output_type": "stream",
     "text": [
      "Accuracy: 0.5684210526315789\n"
     ]
    }
   ],
   "source": [
    "y_pred_log=mlpclf_log.predict(X_test)\n",
    "result_log = accuracy_score(y_test,y_pred_log)\n",
    "print(\"Accuracy:\",result_log)"
   ]
  },
  {
   "cell_type": "code",
   "execution_count": null,
   "metadata": {},
   "outputs": [],
   "source": [
    "#NN Best perofrmance: logistic activation\n",
    "#Accuracy: 0.5684210526315789"
   ]
  },
  {
   "cell_type": "code",
   "execution_count": 336,
   "metadata": {},
   "outputs": [],
   "source": [
    "#ADABOOST"
   ]
  },
  {
   "cell_type": "code",
   "execution_count": 337,
   "metadata": {},
   "outputs": [],
   "source": [
    "from sklearn.ensemble import AdaBoostClassifier"
   ]
  },
  {
   "cell_type": "code",
   "execution_count": 338,
   "metadata": {},
   "outputs": [],
   "source": [
    "adaclf = AdaBoostClassifier(n_estimators=100, random_state=1).fit(X_train,y_train)"
   ]
  },
  {
   "cell_type": "code",
   "execution_count": 339,
   "metadata": {},
   "outputs": [],
   "source": [
    "y_pred_ada=adaclf.predict(X_test)"
   ]
  },
  {
   "cell_type": "code",
   "execution_count": 340,
   "metadata": {},
   "outputs": [
    {
     "data": {
      "text/html": [
       "<div>\n",
       "<style scoped>\n",
       "    .dataframe tbody tr th:only-of-type {\n",
       "        vertical-align: middle;\n",
       "    }\n",
       "\n",
       "    .dataframe tbody tr th {\n",
       "        vertical-align: top;\n",
       "    }\n",
       "\n",
       "    .dataframe thead th {\n",
       "        text-align: right;\n",
       "    }\n",
       "</style>\n",
       "<table border=\"1\" class=\"dataframe\">\n",
       "  <thead>\n",
       "    <tr style=\"text-align: right;\">\n",
       "      <th></th>\n",
       "      <th>A</th>\n",
       "      <th>D</th>\n",
       "      <th>H</th>\n",
       "    </tr>\n",
       "  </thead>\n",
       "  <tbody>\n",
       "    <tr>\n",
       "      <th>A</th>\n",
       "      <td>66</td>\n",
       "      <td>27</td>\n",
       "      <td>35</td>\n",
       "    </tr>\n",
       "    <tr>\n",
       "      <th>D</th>\n",
       "      <td>20</td>\n",
       "      <td>20</td>\n",
       "      <td>31</td>\n",
       "    </tr>\n",
       "    <tr>\n",
       "      <th>H</th>\n",
       "      <td>38</td>\n",
       "      <td>39</td>\n",
       "      <td>104</td>\n",
       "    </tr>\n",
       "  </tbody>\n",
       "</table>\n",
       "</div>"
      ],
      "text/plain": [
       "    A   D    H\n",
       "A  66  27   35\n",
       "D  20  20   31\n",
       "H  38  39  104"
      ]
     },
     "execution_count": 340,
     "metadata": {},
     "output_type": "execute_result"
    }
   ],
   "source": [
    "labels = np.unique(y_test)\n",
    "result = confusion_matrix(y_test, y_pred_ada)\n",
    "a =  confusion_matrix(y_test, y_pred_ada, labels=labels)\n",
    "pd.DataFrame(a, index=labels, columns=labels)"
   ]
  },
  {
   "cell_type": "code",
   "execution_count": 341,
   "metadata": {},
   "outputs": [
    {
     "name": "stdout",
     "output_type": "stream",
     "text": [
      "Accuracy: 0.5\n"
     ]
    }
   ],
   "source": [
    "result2 = accuracy_score(y_test,y_pred_ada)\n",
    "print(\"Accuracy:\",result2)"
   ]
  },
  {
   "cell_type": "code",
   "execution_count": 454,
   "metadata": {},
   "outputs": [],
   "source": [
    "adaclf_le = AdaBoostClassifier(n_estimators=1000, random_state=1).fit(X_train,y_train)"
   ]
  },
  {
   "cell_type": "code",
   "execution_count": 455,
   "metadata": {},
   "outputs": [
    {
     "name": "stdout",
     "output_type": "stream",
     "text": [
      "Accuracy: 0.4868421052631579\n"
     ]
    }
   ],
   "source": [
    "y_pred_ada_le=adaclf_le.predict(X_test)\n",
    "result_adale = accuracy_score(y_test,y_pred_ada_le)\n",
    "print(\"Accuracy:\",result_adale)"
   ]
  },
  {
   "cell_type": "code",
   "execution_count": 519,
   "metadata": {},
   "outputs": [],
   "source": [
    "Home=testing['HomeTeam']"
   ]
  },
  {
   "cell_type": "code",
   "execution_count": 520,
   "metadata": {},
   "outputs": [],
   "source": [
    "Away=testing['AwayTeam']"
   ]
  },
  {
   "cell_type": "code",
   "execution_count": 521,
   "metadata": {},
   "outputs": [],
   "source": [
    "rank={}\n",
    "rank={k:0 for k in Home}"
   ]
  },
  {
   "cell_type": "code",
   "execution_count": 557,
   "metadata": {},
   "outputs": [],
   "source": [
    "def ranker(inputPred):\n",
    "\n",
    "    rank={k:0 for k in Home}\n",
    "    for i in range(len(Home)):\n",
    "        if inputPred[i]=='H':\n",
    "            rank[Home[i]]+=3\n",
    "        elif inputPred[i]=='A':\n",
    "            rank[Away[i]]+=3\n",
    "        else:\n",
    "            rank[Home[i]]+=1\n",
    "            rank[Away[i]]+=1\n",
    "    rank1=dict(sorted(rank.items(), key=lambda item: item[1],reverse=True))\n",
    "    return dict(zip(list(rank1.keys()),range(1,21)))"
   ]
  },
  {
   "cell_type": "code",
   "execution_count": 559,
   "metadata": {},
   "outputs": [
    {
     "data": {
      "text/plain": [
       "{'Liverpool': 1,\n",
       " 'Manchester City': 2,\n",
       " 'Tottenham Hotspur': 3,\n",
       " 'Chelsea': 4,\n",
       " 'Manchester United': 5,\n",
       " 'Arsenal': 6,\n",
       " 'Everton': 7,\n",
       " 'Wolverhampton Wanderers': 8,\n",
       " 'Leicester City': 9,\n",
       " 'Fulham': 10,\n",
       " 'West Ham United': 11,\n",
       " 'AFC Bournemouth': 12,\n",
       " 'Crystal Palace': 13,\n",
       " 'Southampton': 14,\n",
       " 'Burnley': 15,\n",
       " 'Watford': 16,\n",
       " 'Brighton and Hove Albion': 17,\n",
       " 'Newcastle United': 18,\n",
       " 'Huddersfield Town': 19,\n",
       " 'Cardiff City': 20}"
      ]
     },
     "execution_count": 559,
     "metadata": {},
     "output_type": "execute_result"
    }
   ],
   "source": [
    "ranker(y_pred_log)"
   ]
  },
  {
   "cell_type": "code",
   "execution_count": 563,
   "metadata": {},
   "outputs": [],
   "source": [
    "from sklearn.feature_selection import f_classif,SelectKBest"
   ]
  },
  {
   "cell_type": "code",
   "execution_count": 561,
   "metadata": {},
   "outputs": [
    {
     "data": {
      "text/plain": [
       "(array([41.60561754, 60.7243633 , 41.29510202, 57.98833829, 33.998498  ,\n",
       "        36.75709647, 32.28828642, 14.53310059, 38.60669078, 60.68254951,\n",
       "        47.18056027, 30.05303881]),\n",
       " array([7.40408407e-18, 3.68671946e-25, 9.79127550e-18, 3.90621029e-24,\n",
       "        7.40077910e-15, 5.95683857e-16, 3.55961366e-14, 6.42999624e-07,\n",
       "        1.11032334e-16, 3.82171141e-25, 5.07905300e-20, 2.80087494e-13]))"
      ]
     },
     "execution_count": 561,
     "metadata": {},
     "output_type": "execute_result"
    }
   ],
   "source": [
    "f_classif(X_train,y_train)"
   ]
  },
  {
   "cell_type": "code",
   "execution_count": 608,
   "metadata": {},
   "outputs": [],
   "source": [
    "top_10_features = SelectKBest(f_classif, k=8).fit(X_train,y_train)"
   ]
  },
  {
   "cell_type": "code",
   "execution_count": 609,
   "metadata": {},
   "outputs": [],
   "source": [
    "transformed_X=X_train[:,top_10_features.get_support()]"
   ]
  },
  {
   "cell_type": "code",
   "execution_count": 610,
   "metadata": {},
   "outputs": [],
   "source": [
    "X_test_transformed=X_test[:,top_10_features.get_support()]"
   ]
  },
  {
   "cell_type": "code",
   "execution_count": 611,
   "metadata": {},
   "outputs": [],
   "source": [
    "svc_linear_gs=SVC(kernel='rbf',decision_function_shape='ovo').fit(transformed_X,y_train)"
   ]
  },
  {
   "cell_type": "code",
   "execution_count": 612,
   "metadata": {},
   "outputs": [],
   "source": [
    "y_pred_fs=svc_linear_gs.predict(X_test_transformed)"
   ]
  },
  {
   "cell_type": "code",
   "execution_count": 613,
   "metadata": {},
   "outputs": [
    {
     "data": {
      "text/plain": [
       "0.5657894736842105"
      ]
     },
     "execution_count": 613,
     "metadata": {},
     "output_type": "execute_result"
    }
   ],
   "source": [
    "accuracy_score(y_test,y_pred_fs)"
   ]
  },
  {
   "cell_type": "code",
   "execution_count": 614,
   "metadata": {},
   "outputs": [],
   "source": [
    "param_grid={\n",
    "    'kernel':['rbf'],\n",
    "    'C' : np.linspace(.01,10,100),\n",
    "    'gamma':np.linspace(.001,1,100)\n",
    "}"
   ]
  },
  {
   "cell_type": "code",
   "execution_count": 615,
   "metadata": {},
   "outputs": [],
   "source": [
    "gs_svc=GridSearchCV(SVC(decision_function_shape='ovo'),param_grid=param_grid)"
   ]
  },
  {
   "cell_type": "code",
   "execution_count": 617,
   "metadata": {},
   "outputs": [
    {
     "data": {
      "text/plain": [
       "GridSearchCV(estimator=SVC(decision_function_shape='ovo'),\n",
       "             param_grid={'C': array([ 0.01      ,  0.11090909,  0.21181818,  0.31272727,  0.41363636,\n",
       "        0.51454545,  0.61545455,  0.71636364,  0.81727273,  0.91818182,\n",
       "        1.01909091,  1.12      ,  1.22090909,  1.32181818,  1.42272727,\n",
       "        1.52363636,  1.62454545,  1.72545455,  1.82636364,  1.92727273,\n",
       "        2.02818182,  2.12909091,  2.23      ,  2.33090909,  2.43181818,\n",
       "        2.53272727,  2...\n",
       "       0.65690909, 0.667     , 0.67709091, 0.68718182, 0.69727273,\n",
       "       0.70736364, 0.71745455, 0.72754545, 0.73763636, 0.74772727,\n",
       "       0.75781818, 0.76790909, 0.778     , 0.78809091, 0.79818182,\n",
       "       0.80827273, 0.81836364, 0.82845455, 0.83854545, 0.84863636,\n",
       "       0.85872727, 0.86881818, 0.87890909, 0.889     , 0.89909091,\n",
       "       0.90918182, 0.91927273, 0.92936364, 0.93945455, 0.94954545,\n",
       "       0.95963636, 0.96972727, 0.97981818, 0.98990909, 1.        ]),\n",
       "                         'kernel': ['rbf']})"
      ]
     },
     "execution_count": 617,
     "metadata": {},
     "output_type": "execute_result"
    }
   ],
   "source": [
    "gs_svc.fit(transformed_X,y_train)"
   ]
  },
  {
   "cell_type": "code",
   "execution_count": null,
   "metadata": {},
   "outputs": [],
   "source": [
    "gs_svc"
   ]
  }
 ],
 "metadata": {
  "kernelspec": {
   "display_name": "Python 3.7.4 64-bit ('ksi01': virtualenv)",
   "language": "python",
   "name": "python37464bitksi01virtualenv940d07f21048472ab92d4775cf8c0cf6"
  },
  "language_info": {
   "codemirror_mode": {
    "name": "ipython",
    "version": 3
   },
   "file_extension": ".py",
   "mimetype": "text/x-python",
   "name": "python",
   "nbconvert_exporter": "python",
   "pygments_lexer": "ipython3",
   "version": "3.7.4"
  }
 },
 "nbformat": 4,
 "nbformat_minor": 2
}
