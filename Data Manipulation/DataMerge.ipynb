{
 "metadata": {
  "language_info": {
   "codemirror_mode": {
    "name": "ipython",
    "version": 3
   },
   "file_extension": ".py",
   "mimetype": "text/x-python",
   "name": "python",
   "nbconvert_exporter": "python",
   "pygments_lexer": "ipython3",
   "version": "3.7.4-final"
  },
  "orig_nbformat": 2,
  "kernelspec": {
   "name": "python37464bitksi01virtualenv940d07f21048472ab92d4775cf8c0cf6",
   "display_name": "Python 3.7.4 64-bit ('ksi01': virtualenv)"
  }
 },
 "nbformat": 4,
 "nbformat_minor": 2,
 "cells": [
  {
   "cell_type": "code",
   "execution_count": 61,
   "metadata": {},
   "outputs": [],
   "source": [
    "import pandas as pd"
   ]
  },
  {
   "cell_type": "code",
   "execution_count": 62,
   "metadata": {},
   "outputs": [],
   "source": [
    "matches = pd.read_csv('matchsquad2017.csv')\n",
    "players = pd.read_csv('playerdata2017.csv')"
   ]
  },
  {
   "cell_type": "code",
   "execution_count": 63,
   "metadata": {},
   "outputs": [
    {
     "output_type": "execute_result",
     "data": {
      "text/plain": [
       "         Date         HomeTeam              AwayTeam  Played Value H  \\\n",
       "0  2016-08-13          Burnley          Swansea City             NaN   \n",
       "1  2016-08-13   Crystal Palace  West Bromwich Albion             NaN   \n",
       "2  2016-08-13          Everton     Tottenham Hotspur             NaN   \n",
       "3  2016-08-13        Hull City        Leicester City             NaN   \n",
       "4  2016-08-13  Manchester City            Sunderland             NaN   \n",
       "\n",
       "   Played Value A  Total Value H  Total Value A  Attack H  Midfield H  \\\n",
       "0             NaN            NaN            NaN       NaN         NaN   \n",
       "1             NaN            NaN            NaN       NaN         NaN   \n",
       "2             NaN            NaN            NaN       NaN         NaN   \n",
       "3             NaN            NaN            NaN       NaN         NaN   \n",
       "4             NaN            NaN            NaN       NaN         NaN   \n",
       "\n",
       "   Defense H  ...                  A_2                 A_3                A_4  \\\n",
       "0        NaN  ...           Jordi Amat  Federico Fernández      Kyle Naughton   \n",
       "1        NaN  ...         Jonas Olsson         Jonny Evans     Gareth McAuley   \n",
       "2        NaN  ...          Kyle Walker          Danny Rose  Toby Alderweireld   \n",
       "3        NaN  ...        Danny Simpson      Luis Hernández         Wes Morgan   \n",
       "4        NaN  ...  Patrick van Aanholt       Younes Kaboul        Donald Love   \n",
       "\n",
       "                A_5               A_6             A_7             A_8  \\\n",
       "0  Stephen Kingsley      Leon Britton       Leroy Fer       Jack Cork   \n",
       "1      Craig Dawson     Claudio Yacob   Craig Gardner   Matt Phillips   \n",
       "2    Jan Vertonghen       Erik Lamela  Victor Wanyama       Eric Dier   \n",
       "3   Christian Fuchs  Danny Drinkwater    Demarai Gray       Andy King   \n",
       "4       Lamine Koné      Jack Rodwell    Fabio Borini  Duncan Watmore   \n",
       "\n",
       "                 A_9               A_10            A_11  \n",
       "0  Fernando Llorente    Wayne Routledge    Modou Barrow  \n",
       "1    Darren Fletcher     Salomón Rondón  Saido Berahino  \n",
       "2          Dele Alli  Christian Eriksen      Harry Kane  \n",
       "3       Riyad Mahrez        Jamie Vardy      Ahmed Musa  \n",
       "4        John O'Shea       Lynden Gooch   Jermain Defoe  \n",
       "\n",
       "[5 rows x 64 columns]"
      ],
      "text/html": "<div>\n<style scoped>\n    .dataframe tbody tr th:only-of-type {\n        vertical-align: middle;\n    }\n\n    .dataframe tbody tr th {\n        vertical-align: top;\n    }\n\n    .dataframe thead th {\n        text-align: right;\n    }\n</style>\n<table border=\"1\" class=\"dataframe\">\n  <thead>\n    <tr style=\"text-align: right;\">\n      <th></th>\n      <th>Date</th>\n      <th>HomeTeam</th>\n      <th>AwayTeam</th>\n      <th>Played Value H</th>\n      <th>Played Value A</th>\n      <th>Total Value H</th>\n      <th>Total Value A</th>\n      <th>Attack H</th>\n      <th>Midfield H</th>\n      <th>Defense H</th>\n      <th>...</th>\n      <th>A_2</th>\n      <th>A_3</th>\n      <th>A_4</th>\n      <th>A_5</th>\n      <th>A_6</th>\n      <th>A_7</th>\n      <th>A_8</th>\n      <th>A_9</th>\n      <th>A_10</th>\n      <th>A_11</th>\n    </tr>\n  </thead>\n  <tbody>\n    <tr>\n      <th>0</th>\n      <td>2016-08-13</td>\n      <td>Burnley</td>\n      <td>Swansea City</td>\n      <td>NaN</td>\n      <td>NaN</td>\n      <td>NaN</td>\n      <td>NaN</td>\n      <td>NaN</td>\n      <td>NaN</td>\n      <td>NaN</td>\n      <td>...</td>\n      <td>Jordi Amat</td>\n      <td>Federico Fernández</td>\n      <td>Kyle Naughton</td>\n      <td>Stephen Kingsley</td>\n      <td>Leon Britton</td>\n      <td>Leroy Fer</td>\n      <td>Jack Cork</td>\n      <td>Fernando Llorente</td>\n      <td>Wayne Routledge</td>\n      <td>Modou Barrow</td>\n    </tr>\n    <tr>\n      <th>1</th>\n      <td>2016-08-13</td>\n      <td>Crystal Palace</td>\n      <td>West Bromwich Albion</td>\n      <td>NaN</td>\n      <td>NaN</td>\n      <td>NaN</td>\n      <td>NaN</td>\n      <td>NaN</td>\n      <td>NaN</td>\n      <td>NaN</td>\n      <td>...</td>\n      <td>Jonas Olsson</td>\n      <td>Jonny Evans</td>\n      <td>Gareth McAuley</td>\n      <td>Craig Dawson</td>\n      <td>Claudio Yacob</td>\n      <td>Craig Gardner</td>\n      <td>Matt Phillips</td>\n      <td>Darren Fletcher</td>\n      <td>Salomón Rondón</td>\n      <td>Saido Berahino</td>\n    </tr>\n    <tr>\n      <th>2</th>\n      <td>2016-08-13</td>\n      <td>Everton</td>\n      <td>Tottenham Hotspur</td>\n      <td>NaN</td>\n      <td>NaN</td>\n      <td>NaN</td>\n      <td>NaN</td>\n      <td>NaN</td>\n      <td>NaN</td>\n      <td>NaN</td>\n      <td>...</td>\n      <td>Kyle Walker</td>\n      <td>Danny Rose</td>\n      <td>Toby Alderweireld</td>\n      <td>Jan Vertonghen</td>\n      <td>Erik Lamela</td>\n      <td>Victor Wanyama</td>\n      <td>Eric Dier</td>\n      <td>Dele Alli</td>\n      <td>Christian Eriksen</td>\n      <td>Harry Kane</td>\n    </tr>\n    <tr>\n      <th>3</th>\n      <td>2016-08-13</td>\n      <td>Hull City</td>\n      <td>Leicester City</td>\n      <td>NaN</td>\n      <td>NaN</td>\n      <td>NaN</td>\n      <td>NaN</td>\n      <td>NaN</td>\n      <td>NaN</td>\n      <td>NaN</td>\n      <td>...</td>\n      <td>Danny Simpson</td>\n      <td>Luis Hernández</td>\n      <td>Wes Morgan</td>\n      <td>Christian Fuchs</td>\n      <td>Danny Drinkwater</td>\n      <td>Demarai Gray</td>\n      <td>Andy King</td>\n      <td>Riyad Mahrez</td>\n      <td>Jamie Vardy</td>\n      <td>Ahmed Musa</td>\n    </tr>\n    <tr>\n      <th>4</th>\n      <td>2016-08-13</td>\n      <td>Manchester City</td>\n      <td>Sunderland</td>\n      <td>NaN</td>\n      <td>NaN</td>\n      <td>NaN</td>\n      <td>NaN</td>\n      <td>NaN</td>\n      <td>NaN</td>\n      <td>NaN</td>\n      <td>...</td>\n      <td>Patrick van Aanholt</td>\n      <td>Younes Kaboul</td>\n      <td>Donald Love</td>\n      <td>Lamine Koné</td>\n      <td>Jack Rodwell</td>\n      <td>Fabio Borini</td>\n      <td>Duncan Watmore</td>\n      <td>John O'Shea</td>\n      <td>Lynden Gooch</td>\n      <td>Jermain Defoe</td>\n    </tr>\n  </tbody>\n</table>\n<p>5 rows × 64 columns</p>\n</div>"
     },
     "metadata": {},
     "execution_count": 63
    }
   ],
   "source": [
    "matches.head()"
   ]
  },
  {
   "cell_type": "code",
   "execution_count": 64,
   "metadata": {},
   "outputs": [
    {
     "output_type": "execute_result",
     "data": {
      "text/plain": [
       "   Unnamed: 0             Name  MarketValue     Position            Teams\n",
       "0           0         Joe Hart     11700000   Goalkeeper  manchester-city\n",
       "1           1    Claudio Bravo      7200000   Goalkeeper  manchester-city\n",
       "2           2  Willy Caballero      1350000   Goalkeeper  manchester-city\n",
       "3           3       Angus Gunn       225000   Goalkeeper  manchester-city\n",
       "4           4      John Stones     31500000  Centre-Back  manchester-city"
      ],
      "text/html": "<div>\n<style scoped>\n    .dataframe tbody tr th:only-of-type {\n        vertical-align: middle;\n    }\n\n    .dataframe tbody tr th {\n        vertical-align: top;\n    }\n\n    .dataframe thead th {\n        text-align: right;\n    }\n</style>\n<table border=\"1\" class=\"dataframe\">\n  <thead>\n    <tr style=\"text-align: right;\">\n      <th></th>\n      <th>Unnamed: 0</th>\n      <th>Name</th>\n      <th>MarketValue</th>\n      <th>Position</th>\n      <th>Teams</th>\n    </tr>\n  </thead>\n  <tbody>\n    <tr>\n      <th>0</th>\n      <td>0</td>\n      <td>Joe Hart</td>\n      <td>11700000</td>\n      <td>Goalkeeper</td>\n      <td>manchester-city</td>\n    </tr>\n    <tr>\n      <th>1</th>\n      <td>1</td>\n      <td>Claudio Bravo</td>\n      <td>7200000</td>\n      <td>Goalkeeper</td>\n      <td>manchester-city</td>\n    </tr>\n    <tr>\n      <th>2</th>\n      <td>2</td>\n      <td>Willy Caballero</td>\n      <td>1350000</td>\n      <td>Goalkeeper</td>\n      <td>manchester-city</td>\n    </tr>\n    <tr>\n      <th>3</th>\n      <td>3</td>\n      <td>Angus Gunn</td>\n      <td>225000</td>\n      <td>Goalkeeper</td>\n      <td>manchester-city</td>\n    </tr>\n    <tr>\n      <th>4</th>\n      <td>4</td>\n      <td>John Stones</td>\n      <td>31500000</td>\n      <td>Centre-Back</td>\n      <td>manchester-city</td>\n    </tr>\n  </tbody>\n</table>\n</div>"
     },
     "metadata": {},
     "execution_count": 64
    }
   ],
   "source": [
    "players.head()"
   ]
  },
  {
   "cell_type": "code",
   "execution_count": 65,
   "metadata": {},
   "outputs": [],
   "source": [
    "# First, match the team names between the two files using fuzzywuzzy"
   ]
  },
  {
   "source": [
    "from fuzzywuzzy import fuzz\n",
    "from fuzzywuzzy import process as fuzzprocess"
   ],
   "cell_type": "code",
   "metadata": {},
   "execution_count": 66,
   "outputs": []
  },
  {
   "source": [
    "teams_matches=matches['HomeTeam'].unique().tolist()"
   ],
   "cell_type": "code",
   "metadata": {},
   "execution_count": 67,
   "outputs": []
  },
  {
   "cell_type": "code",
   "execution_count": 68,
   "metadata": {},
   "outputs": [
    {
     "output_type": "execute_result",
     "data": {
      "text/plain": [
       "20"
      ]
     },
     "metadata": {},
     "execution_count": 68
    }
   ],
   "source": [
    "#Check that there are twenty teams\n",
    "len(teams_matches)"
   ]
  },
  {
   "cell_type": "code",
   "execution_count": 69,
   "metadata": {},
   "outputs": [
    {
     "output_type": "execute_result",
     "data": {
      "text/plain": [
       "['Burnley',\n",
       " 'Crystal Palace',\n",
       " 'Everton',\n",
       " 'Hull City',\n",
       " 'Manchester City',\n",
       " 'Middlesbrough',\n",
       " 'Southampton',\n",
       " 'Arsenal',\n",
       " 'AFC Bournemouth',\n",
       " 'Chelsea',\n",
       " 'Manchester United',\n",
       " 'Leicester City',\n",
       " 'Stoke City',\n",
       " 'Swansea City',\n",
       " 'Tottenham Hotspur',\n",
       " 'Watford',\n",
       " 'West Bromwich Albion',\n",
       " 'Sunderland',\n",
       " 'West Ham United',\n",
       " 'Liverpool']"
      ]
     },
     "metadata": {},
     "execution_count": 69
    }
   ],
   "source": [
    "teams_matches"
   ]
  },
  {
   "cell_type": "code",
   "execution_count": 73,
   "metadata": {},
   "outputs": [],
   "source": [
    "teams_players=players['Teams'].unique().tolist()"
   ]
  },
  {
   "cell_type": "code",
   "execution_count": 74,
   "metadata": {},
   "outputs": [
    {
     "output_type": "execute_result",
     "data": {
      "text/plain": [
       "20"
      ]
     },
     "metadata": {},
     "execution_count": 74
    }
   ],
   "source": [
    "len(teams_players)"
   ]
  },
  {
   "cell_type": "code",
   "execution_count": 75,
   "metadata": {},
   "outputs": [
    {
     "output_type": "execute_result",
     "data": {
      "text/plain": [
       "['manchester-city',\n",
       " 'fc-chelsea',\n",
       " 'manchester-united',\n",
       " 'fc-arsenal',\n",
       " 'fc-liverpool',\n",
       " 'tottenham-hotspur',\n",
       " 'fc-everton',\n",
       " 'west-ham-united',\n",
       " 'crystal-palace',\n",
       " 'fc-southampton',\n",
       " 'stoke-city',\n",
       " 'fc-watford',\n",
       " 'leicester-city',\n",
       " 'swansea-city',\n",
       " 'hull-city',\n",
       " 'fc-middlesbrough',\n",
       " 'west-bromwich-albion',\n",
       " 'afc-sunderland',\n",
       " 'afc-bournemouth',\n",
       " 'fc-burnley']"
      ]
     },
     "metadata": {},
     "execution_count": 75
    }
   ],
   "source": [
    "teams_players"
   ]
  },
  {
   "cell_type": "code",
   "execution_count": 77,
   "metadata": {},
   "outputs": [
    {
     "output_type": "stream",
     "name": "stdout",
     "text": [
      "The score between team Burnley and team manchester-city is: 27\nThe score between team Burnley and team fc-chelsea is: 24\nThe score between team Burnley and team manchester-united is: 25\nThe score between team Burnley and team fc-arsenal is: 35\nThe score between team Burnley and team fc-liverpool is: 21\nThe score between team Burnley and team tottenham-hotspur is: 17\nThe score between team Burnley and team fc-everton is: 24\nThe score between team Burnley and team west-ham-united is: 27\nThe score between team Burnley and team crystal-palace is: 29\nThe score between team Burnley and team fc-southampton is: 19\nThe score between team Burnley and team stoke-city is: 24\nThe score between team Burnley and team fc-watford is: 12\nThe score between team Burnley and team leicester-city is: 29\nThe score between team Burnley and team swansea-city is: 32\nThe score between team Burnley and team hull-city is: 38\nThe score between team Burnley and team fc-middlesbrough is: 17\nThe score between team Burnley and team west-bromwich-albion is: 15\nThe score between team Burnley and team afc-sunderland is: 29\nThe score between team Burnley and team afc-bournemouth is: 36\nThe score between team Burnley and team fc-burnley is: 71\n"
     ]
    }
   ],
   "source": [
    "#Check that the scores are looking good\n",
    "for i in range(0,20):\n",
    "    print(\"The score between team \"+teams_matches[0]+\" and team \"+teams_players[i]+\" is: \"+str(fuzz.ratio(teams_matches[0],teams_players[i])))"
   ]
  },
  {
   "cell_type": "code",
   "execution_count": 78,
   "metadata": {},
   "outputs": [],
   "source": [
    "teamNameDict={}\n",
    "for i in range(0,20):\n",
    "    teamNameDict[teams_players[i]]=fuzzprocess.extract(teams_players[i],teams_matches,limit=1)[0][0]"
   ]
  },
  {
   "cell_type": "code",
   "execution_count": 79,
   "metadata": {},
   "outputs": [
    {
     "output_type": "execute_result",
     "data": {
      "text/plain": [
       "{'manchester-city': 'Manchester City',\n",
       " 'fc-chelsea': 'Chelsea',\n",
       " 'manchester-united': 'Manchester United',\n",
       " 'fc-arsenal': 'Arsenal',\n",
       " 'fc-liverpool': 'Liverpool',\n",
       " 'tottenham-hotspur': 'Tottenham Hotspur',\n",
       " 'fc-everton': 'Everton',\n",
       " 'west-ham-united': 'West Ham United',\n",
       " 'crystal-palace': 'Crystal Palace',\n",
       " 'fc-southampton': 'Southampton',\n",
       " 'stoke-city': 'Stoke City',\n",
       " 'fc-watford': 'Watford',\n",
       " 'leicester-city': 'Leicester City',\n",
       " 'swansea-city': 'Swansea City',\n",
       " 'hull-city': 'Hull City',\n",
       " 'fc-middlesbrough': 'Middlesbrough',\n",
       " 'west-bromwich-albion': 'West Bromwich Albion',\n",
       " 'afc-sunderland': 'Sunderland',\n",
       " 'afc-bournemouth': 'AFC Bournemouth',\n",
       " 'fc-burnley': 'Burnley'}"
      ]
     },
     "metadata": {},
     "execution_count": 79
    }
   ],
   "source": [
    "teamNameDict"
   ]
  },
  {
   "cell_type": "code",
   "execution_count": 84,
   "metadata": {},
   "outputs": [],
   "source": [
    "players['Teams']=players['Teams'].map(teamNameDict)"
   ]
  },
  {
   "cell_type": "code",
   "execution_count": 86,
   "metadata": {},
   "outputs": [
    {
     "output_type": "execute_result",
     "data": {
      "text/plain": [
       "     Unnamed: 0              Name  MarketValue        Position  \\\n",
       "0             0          Joe Hart     11700000      Goalkeeper   \n",
       "1             1     Claudio Bravo      7200000      Goalkeeper   \n",
       "2             2   Willy Caballero      1350000      Goalkeeper   \n",
       "3             3        Angus Gunn       225000      Goalkeeper   \n",
       "4             4       John Stones     31500000     Centre-Back   \n",
       "..          ...               ...          ...             ...   \n",
       "786          31   Rouwen Hennings      1350000  Centre-Forward   \n",
       "787          32  Lukas Jutkiewicz      1350000  Centre-Forward   \n",
       "788          33        Chris Long       900000  Centre-Forward   \n",
       "789          34         Dan Agyei        68000  Centre-Forward   \n",
       "790          35   Ntumba Massanka            0  Centre-Forward   \n",
       "\n",
       "               Teams  \n",
       "0    Manchester City  \n",
       "1    Manchester City  \n",
       "2    Manchester City  \n",
       "3    Manchester City  \n",
       "4    Manchester City  \n",
       "..               ...  \n",
       "786          Burnley  \n",
       "787          Burnley  \n",
       "788          Burnley  \n",
       "789          Burnley  \n",
       "790          Burnley  \n",
       "\n",
       "[791 rows x 5 columns]"
      ],
      "text/html": "<div>\n<style scoped>\n    .dataframe tbody tr th:only-of-type {\n        vertical-align: middle;\n    }\n\n    .dataframe tbody tr th {\n        vertical-align: top;\n    }\n\n    .dataframe thead th {\n        text-align: right;\n    }\n</style>\n<table border=\"1\" class=\"dataframe\">\n  <thead>\n    <tr style=\"text-align: right;\">\n      <th></th>\n      <th>Unnamed: 0</th>\n      <th>Name</th>\n      <th>MarketValue</th>\n      <th>Position</th>\n      <th>Teams</th>\n    </tr>\n  </thead>\n  <tbody>\n    <tr>\n      <th>0</th>\n      <td>0</td>\n      <td>Joe Hart</td>\n      <td>11700000</td>\n      <td>Goalkeeper</td>\n      <td>Manchester City</td>\n    </tr>\n    <tr>\n      <th>1</th>\n      <td>1</td>\n      <td>Claudio Bravo</td>\n      <td>7200000</td>\n      <td>Goalkeeper</td>\n      <td>Manchester City</td>\n    </tr>\n    <tr>\n      <th>2</th>\n      <td>2</td>\n      <td>Willy Caballero</td>\n      <td>1350000</td>\n      <td>Goalkeeper</td>\n      <td>Manchester City</td>\n    </tr>\n    <tr>\n      <th>3</th>\n      <td>3</td>\n      <td>Angus Gunn</td>\n      <td>225000</td>\n      <td>Goalkeeper</td>\n      <td>Manchester City</td>\n    </tr>\n    <tr>\n      <th>4</th>\n      <td>4</td>\n      <td>John Stones</td>\n      <td>31500000</td>\n      <td>Centre-Back</td>\n      <td>Manchester City</td>\n    </tr>\n    <tr>\n      <th>...</th>\n      <td>...</td>\n      <td>...</td>\n      <td>...</td>\n      <td>...</td>\n      <td>...</td>\n    </tr>\n    <tr>\n      <th>786</th>\n      <td>31</td>\n      <td>Rouwen Hennings</td>\n      <td>1350000</td>\n      <td>Centre-Forward</td>\n      <td>Burnley</td>\n    </tr>\n    <tr>\n      <th>787</th>\n      <td>32</td>\n      <td>Lukas Jutkiewicz</td>\n      <td>1350000</td>\n      <td>Centre-Forward</td>\n      <td>Burnley</td>\n    </tr>\n    <tr>\n      <th>788</th>\n      <td>33</td>\n      <td>Chris Long</td>\n      <td>900000</td>\n      <td>Centre-Forward</td>\n      <td>Burnley</td>\n    </tr>\n    <tr>\n      <th>789</th>\n      <td>34</td>\n      <td>Dan Agyei</td>\n      <td>68000</td>\n      <td>Centre-Forward</td>\n      <td>Burnley</td>\n    </tr>\n    <tr>\n      <th>790</th>\n      <td>35</td>\n      <td>Ntumba Massanka</td>\n      <td>0</td>\n      <td>Centre-Forward</td>\n      <td>Burnley</td>\n    </tr>\n  </tbody>\n</table>\n<p>791 rows × 5 columns</p>\n</div>"
     },
     "metadata": {},
     "execution_count": 86
    }
   ],
   "source": [
    "players"
   ]
  },
  {
   "cell_type": "code",
   "execution_count": 89,
   "metadata": {},
   "outputs": [],
   "source": [
    "totalValues={}"
   ]
  },
  {
   "cell_type": "code",
   "execution_count": 94,
   "metadata": {},
   "outputs": [],
   "source": [
    "for i in range(0,20):\n",
    "    temp=players['Teams']==teams_matches[i]\n",
    "    totalValues[teams_matches[i]]=sum(players[temp]['MarketValue'])"
   ]
  },
  {
   "cell_type": "code",
   "execution_count": 98,
   "metadata": {},
   "outputs": [],
   "source": [
    "matches['Total Value H']=matches['HomeTeam'].map(totalValues)"
   ]
  },
  {
   "cell_type": "code",
   "execution_count": 246,
   "metadata": {},
   "outputs": [],
   "source": [
    "matches['Total Value A']=matches['AwayTeam'].map(totalValues)"
   ]
  },
  {
   "cell_type": "code",
   "execution_count": 247,
   "metadata": {},
   "outputs": [
    {
     "output_type": "execute_result",
     "data": {
      "text/plain": [
       "           Date           HomeTeam              AwayTeam  Played Value H  \\\n",
       "0    2016-08-13            Burnley          Swansea City             NaN   \n",
       "1    2016-08-13     Crystal Palace  West Bromwich Albion             NaN   \n",
       "2    2016-08-13            Everton     Tottenham Hotspur             NaN   \n",
       "3    2016-08-13          Hull City        Leicester City             NaN   \n",
       "4    2016-08-13    Manchester City            Sunderland             NaN   \n",
       "..          ...                ...                   ...             ...   \n",
       "375  2017-05-21          Liverpool         Middlesbrough             NaN   \n",
       "376  2017-05-21  Manchester United        Crystal Palace             NaN   \n",
       "377  2017-05-21        Southampton            Stoke City             NaN   \n",
       "378  2017-05-21       Swansea City  West Bromwich Albion             NaN   \n",
       "379  2017-05-21            Watford       Manchester City             NaN   \n",
       "\n",
       "     Played Value A  Total Value H  Total Value A  Attack H  Midfield H  \\\n",
       "0               NaN       96458000      141390000       NaN         NaN   \n",
       "1               NaN      205583000      110880000       NaN         NaN   \n",
       "2               NaN      280125000      489285000       NaN         NaN   \n",
       "3               NaN      122265000      196785000       NaN         NaN   \n",
       "4               NaN      546030000      118800000       NaN         NaN   \n",
       "..              ...            ...            ...       ...         ...   \n",
       "375             NaN      383090000      115925000       NaN         NaN   \n",
       "376             NaN      478305000      205583000       NaN         NaN   \n",
       "377             NaN      237375000      167400000       NaN         NaN   \n",
       "378             NaN      141390000      110880000       NaN         NaN   \n",
       "379             NaN      158090000      546030000       NaN         NaN   \n",
       "\n",
       "     Defense H  ...                  A_2                 A_3  \\\n",
       "0          NaN  ...           Jordi Amat  Federico Fernández   \n",
       "1          NaN  ...         Jonas Olsson         Jonny Evans   \n",
       "2          NaN  ...          Kyle Walker          Danny Rose   \n",
       "3          NaN  ...        Danny Simpson      Luis Hernández   \n",
       "4          NaN  ...  Patrick van Aanholt       Younes Kaboul   \n",
       "..         ...  ...                  ...                 ...   \n",
       "375        NaN  ...                Fabio       George Friend   \n",
       "376        NaN  ...            Joel Ward       James Tomkins   \n",
       "377        NaN  ...   Bruno Martins Indi      Ryan Shawcross   \n",
       "378        NaN  ...          Jonny Evans         Marc Wilson   \n",
       "379        NaN  ...      Vincent Kompany         Gaël Clichy   \n",
       "\n",
       "                   A_4               A_5               A_6              A_7  \\\n",
       "0        Kyle Naughton  Stephen Kingsley      Leon Britton        Leroy Fer   \n",
       "1       Gareth McAuley      Craig Dawson     Claudio Yacob    Craig Gardner   \n",
       "2    Toby Alderweireld    Jan Vertonghen       Erik Lamela   Victor Wanyama   \n",
       "3           Wes Morgan   Christian Fuchs  Danny Drinkwater     Demarai Gray   \n",
       "4          Donald Love       Lamine Koné      Jack Rodwell     Fabio Borini   \n",
       "..                 ...               ...               ...              ...   \n",
       "375         Ben Gibson    Calum Chambers  Grant Leadbitter     Adam Clayton   \n",
       "376    Jeffrey Schlupp      Martin Kelly  Luka Milivojevic   James McArthur   \n",
       "377      Geoff Cameron      Erik Pieters         Joe Allen     Glenn Whelan   \n",
       "378       Craig Dawson  Allan-Roméo Nyom     Claudio Yacob   Jake Livermore   \n",
       "379        Fernandinho  Nicolás Otamendi     Gabriel Jesus  Kevin De Bruyne   \n",
       "\n",
       "                  A_8                  A_9               A_10  \\\n",
       "0           Jack Cork    Fernando Llorente    Wayne Routledge   \n",
       "1       Matt Phillips      Darren Fletcher     Salomón Rondón   \n",
       "2           Eric Dier            Dele Alli  Christian Eriksen   \n",
       "3           Andy King         Riyad Mahrez        Jamie Vardy   \n",
       "4      Duncan Watmore          John O'Shea       Lynden Gooch   \n",
       "..                ...                  ...                ...   \n",
       "375      Adam Forshaw      Patrick Bamford       Rudy Gestede   \n",
       "376    Jason Puncheon  Patrick van Aanholt      Wilfried Zaha   \n",
       "377  Mame Biram Diouf      Xherdan Shaqiri       Peter Crouch   \n",
       "378       Chris Brunt      Darren Fletcher     James Morrison   \n",
       "379        Leroy Sané          David Silva         Yaya Touré   \n",
       "\n",
       "                  A_11  \n",
       "0         Modou Barrow  \n",
       "1       Saido Berahino  \n",
       "2           Harry Kane  \n",
       "3           Ahmed Musa  \n",
       "4        Jermain Defoe  \n",
       "..                 ...  \n",
       "375    Stewart Downing  \n",
       "376  Christian Benteke  \n",
       "377      Ramadan Sobhi  \n",
       "378     Salomón Rondón  \n",
       "379      Sergio Agüero  \n",
       "\n",
       "[380 rows x 64 columns]"
      ],
      "text/html": "<div>\n<style scoped>\n    .dataframe tbody tr th:only-of-type {\n        vertical-align: middle;\n    }\n\n    .dataframe tbody tr th {\n        vertical-align: top;\n    }\n\n    .dataframe thead th {\n        text-align: right;\n    }\n</style>\n<table border=\"1\" class=\"dataframe\">\n  <thead>\n    <tr style=\"text-align: right;\">\n      <th></th>\n      <th>Date</th>\n      <th>HomeTeam</th>\n      <th>AwayTeam</th>\n      <th>Played Value H</th>\n      <th>Played Value A</th>\n      <th>Total Value H</th>\n      <th>Total Value A</th>\n      <th>Attack H</th>\n      <th>Midfield H</th>\n      <th>Defense H</th>\n      <th>...</th>\n      <th>A_2</th>\n      <th>A_3</th>\n      <th>A_4</th>\n      <th>A_5</th>\n      <th>A_6</th>\n      <th>A_7</th>\n      <th>A_8</th>\n      <th>A_9</th>\n      <th>A_10</th>\n      <th>A_11</th>\n    </tr>\n  </thead>\n  <tbody>\n    <tr>\n      <th>0</th>\n      <td>2016-08-13</td>\n      <td>Burnley</td>\n      <td>Swansea City</td>\n      <td>NaN</td>\n      <td>NaN</td>\n      <td>96458000</td>\n      <td>141390000</td>\n      <td>NaN</td>\n      <td>NaN</td>\n      <td>NaN</td>\n      <td>...</td>\n      <td>Jordi Amat</td>\n      <td>Federico Fernández</td>\n      <td>Kyle Naughton</td>\n      <td>Stephen Kingsley</td>\n      <td>Leon Britton</td>\n      <td>Leroy Fer</td>\n      <td>Jack Cork</td>\n      <td>Fernando Llorente</td>\n      <td>Wayne Routledge</td>\n      <td>Modou Barrow</td>\n    </tr>\n    <tr>\n      <th>1</th>\n      <td>2016-08-13</td>\n      <td>Crystal Palace</td>\n      <td>West Bromwich Albion</td>\n      <td>NaN</td>\n      <td>NaN</td>\n      <td>205583000</td>\n      <td>110880000</td>\n      <td>NaN</td>\n      <td>NaN</td>\n      <td>NaN</td>\n      <td>...</td>\n      <td>Jonas Olsson</td>\n      <td>Jonny Evans</td>\n      <td>Gareth McAuley</td>\n      <td>Craig Dawson</td>\n      <td>Claudio Yacob</td>\n      <td>Craig Gardner</td>\n      <td>Matt Phillips</td>\n      <td>Darren Fletcher</td>\n      <td>Salomón Rondón</td>\n      <td>Saido Berahino</td>\n    </tr>\n    <tr>\n      <th>2</th>\n      <td>2016-08-13</td>\n      <td>Everton</td>\n      <td>Tottenham Hotspur</td>\n      <td>NaN</td>\n      <td>NaN</td>\n      <td>280125000</td>\n      <td>489285000</td>\n      <td>NaN</td>\n      <td>NaN</td>\n      <td>NaN</td>\n      <td>...</td>\n      <td>Kyle Walker</td>\n      <td>Danny Rose</td>\n      <td>Toby Alderweireld</td>\n      <td>Jan Vertonghen</td>\n      <td>Erik Lamela</td>\n      <td>Victor Wanyama</td>\n      <td>Eric Dier</td>\n      <td>Dele Alli</td>\n      <td>Christian Eriksen</td>\n      <td>Harry Kane</td>\n    </tr>\n    <tr>\n      <th>3</th>\n      <td>2016-08-13</td>\n      <td>Hull City</td>\n      <td>Leicester City</td>\n      <td>NaN</td>\n      <td>NaN</td>\n      <td>122265000</td>\n      <td>196785000</td>\n      <td>NaN</td>\n      <td>NaN</td>\n      <td>NaN</td>\n      <td>...</td>\n      <td>Danny Simpson</td>\n      <td>Luis Hernández</td>\n      <td>Wes Morgan</td>\n      <td>Christian Fuchs</td>\n      <td>Danny Drinkwater</td>\n      <td>Demarai Gray</td>\n      <td>Andy King</td>\n      <td>Riyad Mahrez</td>\n      <td>Jamie Vardy</td>\n      <td>Ahmed Musa</td>\n    </tr>\n    <tr>\n      <th>4</th>\n      <td>2016-08-13</td>\n      <td>Manchester City</td>\n      <td>Sunderland</td>\n      <td>NaN</td>\n      <td>NaN</td>\n      <td>546030000</td>\n      <td>118800000</td>\n      <td>NaN</td>\n      <td>NaN</td>\n      <td>NaN</td>\n      <td>...</td>\n      <td>Patrick van Aanholt</td>\n      <td>Younes Kaboul</td>\n      <td>Donald Love</td>\n      <td>Lamine Koné</td>\n      <td>Jack Rodwell</td>\n      <td>Fabio Borini</td>\n      <td>Duncan Watmore</td>\n      <td>John O'Shea</td>\n      <td>Lynden Gooch</td>\n      <td>Jermain Defoe</td>\n    </tr>\n    <tr>\n      <th>...</th>\n      <td>...</td>\n      <td>...</td>\n      <td>...</td>\n      <td>...</td>\n      <td>...</td>\n      <td>...</td>\n      <td>...</td>\n      <td>...</td>\n      <td>...</td>\n      <td>...</td>\n      <td>...</td>\n      <td>...</td>\n      <td>...</td>\n      <td>...</td>\n      <td>...</td>\n      <td>...</td>\n      <td>...</td>\n      <td>...</td>\n      <td>...</td>\n      <td>...</td>\n      <td>...</td>\n    </tr>\n    <tr>\n      <th>375</th>\n      <td>2017-05-21</td>\n      <td>Liverpool</td>\n      <td>Middlesbrough</td>\n      <td>NaN</td>\n      <td>NaN</td>\n      <td>383090000</td>\n      <td>115925000</td>\n      <td>NaN</td>\n      <td>NaN</td>\n      <td>NaN</td>\n      <td>...</td>\n      <td>Fabio</td>\n      <td>George Friend</td>\n      <td>Ben Gibson</td>\n      <td>Calum Chambers</td>\n      <td>Grant Leadbitter</td>\n      <td>Adam Clayton</td>\n      <td>Adam Forshaw</td>\n      <td>Patrick Bamford</td>\n      <td>Rudy Gestede</td>\n      <td>Stewart Downing</td>\n    </tr>\n    <tr>\n      <th>376</th>\n      <td>2017-05-21</td>\n      <td>Manchester United</td>\n      <td>Crystal Palace</td>\n      <td>NaN</td>\n      <td>NaN</td>\n      <td>478305000</td>\n      <td>205583000</td>\n      <td>NaN</td>\n      <td>NaN</td>\n      <td>NaN</td>\n      <td>...</td>\n      <td>Joel Ward</td>\n      <td>James Tomkins</td>\n      <td>Jeffrey Schlupp</td>\n      <td>Martin Kelly</td>\n      <td>Luka Milivojevic</td>\n      <td>James McArthur</td>\n      <td>Jason Puncheon</td>\n      <td>Patrick van Aanholt</td>\n      <td>Wilfried Zaha</td>\n      <td>Christian Benteke</td>\n    </tr>\n    <tr>\n      <th>377</th>\n      <td>2017-05-21</td>\n      <td>Southampton</td>\n      <td>Stoke City</td>\n      <td>NaN</td>\n      <td>NaN</td>\n      <td>237375000</td>\n      <td>167400000</td>\n      <td>NaN</td>\n      <td>NaN</td>\n      <td>NaN</td>\n      <td>...</td>\n      <td>Bruno Martins Indi</td>\n      <td>Ryan Shawcross</td>\n      <td>Geoff Cameron</td>\n      <td>Erik Pieters</td>\n      <td>Joe Allen</td>\n      <td>Glenn Whelan</td>\n      <td>Mame Biram Diouf</td>\n      <td>Xherdan Shaqiri</td>\n      <td>Peter Crouch</td>\n      <td>Ramadan Sobhi</td>\n    </tr>\n    <tr>\n      <th>378</th>\n      <td>2017-05-21</td>\n      <td>Swansea City</td>\n      <td>West Bromwich Albion</td>\n      <td>NaN</td>\n      <td>NaN</td>\n      <td>141390000</td>\n      <td>110880000</td>\n      <td>NaN</td>\n      <td>NaN</td>\n      <td>NaN</td>\n      <td>...</td>\n      <td>Jonny Evans</td>\n      <td>Marc Wilson</td>\n      <td>Craig Dawson</td>\n      <td>Allan-Roméo Nyom</td>\n      <td>Claudio Yacob</td>\n      <td>Jake Livermore</td>\n      <td>Chris Brunt</td>\n      <td>Darren Fletcher</td>\n      <td>James Morrison</td>\n      <td>Salomón Rondón</td>\n    </tr>\n    <tr>\n      <th>379</th>\n      <td>2017-05-21</td>\n      <td>Watford</td>\n      <td>Manchester City</td>\n      <td>NaN</td>\n      <td>NaN</td>\n      <td>158090000</td>\n      <td>546030000</td>\n      <td>NaN</td>\n      <td>NaN</td>\n      <td>NaN</td>\n      <td>...</td>\n      <td>Vincent Kompany</td>\n      <td>Gaël Clichy</td>\n      <td>Fernandinho</td>\n      <td>Nicolás Otamendi</td>\n      <td>Gabriel Jesus</td>\n      <td>Kevin De Bruyne</td>\n      <td>Leroy Sané</td>\n      <td>David Silva</td>\n      <td>Yaya Touré</td>\n      <td>Sergio Agüero</td>\n    </tr>\n  </tbody>\n</table>\n<p>380 rows × 64 columns</p>\n</div>"
     },
     "metadata": {},
     "execution_count": 247
    }
   ],
   "source": [
    "matches"
   ]
  },
  {
   "cell_type": "code",
   "execution_count": 248,
   "metadata": {},
   "outputs": [],
   "source": [
    "def calculators(inputRow):\n",
    "    dataContainer={}\n",
    "    dataContainer['Played Value H']=0\n",
    "    dataContainer['Played Value A']=0\n",
    "    dataContainer['Defense H']=0\n",
    "    dataContainer['Defense A']=0\n",
    "    dataContainer['Attack H']=0\n",
    "    dataContainer['Attack A']=0\n",
    "    dataContainer['Midfield H']=0\n",
    "    dataContainer['Midfield A']=0\n",
    "    dataContainer['Goalie H']=0\n",
    "    dataContainer['Goalie A']=0\n",
    "    dataContainer['Attack Count H']=0\n",
    "    dataContainer['Defense Count H']=0\n",
    "    dataContainer['Goalie Count H']=0\n",
    "    dataContainer['Midfield Count H']=0\n",
    "    dataContainer['Attack Count A']=0\n",
    "    dataContainer['Defense Count A']=0\n",
    "    dataContainer['Goalie Count A']=0\n",
    "    dataContainer['Midfield Count A']=0\n",
    "\n",
    "    hometeam=inputRow['HomeTeam']\n",
    "    awayteam=inputRow['AwayTeam']\n",
    "    homeTeamPlayers=players[players['Teams']==hometeam]\n",
    "    awayTeamPlayers=players[players['Teams']==awayteam]\n",
    "    homeTeamPlayerList=homeTeamPlayers['Name'].tolist()\n",
    "    awayTeamPlayerList=awayTeamPlayers['Name'].tolist()\n",
    "\n",
    "    playedHome=inputRow[42:53].tolist()\n",
    "    playedAway=inputRow[53:64].tolist()\n",
    "\n",
    "\n",
    "    for i in range(0,11):\n",
    "        standardNameH=fuzzprocess.extract(playedHome[i],homeTeamPlayerList)[0][0]\n",
    "        standardNameA=fuzzprocess.extract(playedAway[i],awayTeamPlayerList)[0][0]\n",
    "\n",
    "        homeRow=homeTeamPlayers[homeTeamPlayers['Name']==standardNameH]\n",
    "        awayRow=awayTeamPlayers[awayTeamPlayers['Name']==standardNameA]\n",
    "\n",
    "        dataContainer['Played Value H']+= homeRow['MarketValue'].values[0]\n",
    "        dataContainer['Played Value A']+= awayRow['MarketValue'].values[0]\n",
    "\n",
    "        if homeRow['Position'].values[0] in ['Centre-Back','Left-Back','Right-Back']:\n",
    "            dataContainer['Defense H']+=homeRow['MarketValue'].values[0]\n",
    "            dataContainer['Defense Count H']+=1\n",
    "        elif homeRow['Position'].values[0] in ['Left Winger', 'Right Winger', 'Centre-Forward', 'Forward']:\n",
    "            dataContainer['Attack H']+=homeRow['MarketValue'].values[0]\n",
    "            dataContainer['Attack Count H']+=1\n",
    "        elif homeRow['Position'].values[0]=='Goalkeeper':\n",
    "            dataContainer['Goalie H']+=homeRow['MarketValue'].values[0]\n",
    "            dataContainer['Goalie Count H']+=1\n",
    "        else:\n",
    "            dataContainer['Midfield H']+=homeRow['MarketValue'].values[0]\n",
    "            dataContainer['Midfield Count H']+=1\n",
    "\n",
    "        if awayRow['Position'].values[0] in ['Centre-Back','Left-Back','Right-Back']:\n",
    "            dataContainer['Defense A']+=awayRow['MarketValue'].values[0]\n",
    "            dataContainer['Defense Count A']+=1\n",
    "        elif awayRow['Position'].values[0] in ['Left Winger', 'Right Winger', 'Centre-Forward', 'Forward']:\n",
    "            dataContainer['Attack A']+=awayRow['MarketValue'].values[0]\n",
    "            dataContainer['Attack Count A']+=1\n",
    "        elif awayRow['Position'].values[0]=='Goalkeeper':\n",
    "            dataContainer['Goalie A']+=awayRow['MarketValue'].values[0]\n",
    "            dataContainer['Goalie Count A']+=1\n",
    "        else:\n",
    "            dataContainer['Midfield A']+=awayRow['MarketValue'].values[0]\n",
    "            dataContainer['Midfield Count A']+=1\n",
    "\n",
    "    return dataContainer\n",
    "        "
   ]
  },
  {
   "cell_type": "code",
   "execution_count": 292,
   "metadata": {},
   "outputs": [],
   "source": [
    "for i in matches.index:\n",
    "    dataTemp=calculators(matches.loc[i])\n",
    "    for key in dataTemp.keys(): \n",
    "        matches.at[i,key] = dataTemp[key]"
   ]
  },
  {
   "cell_type": "code",
   "execution_count": 287,
   "metadata": {},
   "outputs": [],
   "source": [
    "players['Name'] = players['Name'].astype('|S')"
   ]
  },
  {
   "cell_type": "code",
   "execution_count": 291,
   "metadata": {},
   "outputs": [],
   "source": [
    "matches[list(matches)[-22:]]=matches[list(matches)[-22:]].astype(str)"
   ]
  },
  {
   "cell_type": "code",
   "execution_count": 295,
   "metadata": {},
   "outputs": [],
   "source": [
    "matches.to_csv('test.csv')"
   ]
  },
  {
   "cell_type": "code",
   "execution_count": 284,
   "metadata": {},
   "outputs": [
    {
     "output_type": "execute_result",
     "data": {
      "text/plain": [
       "['H_1',\n",
       " 'H_2',\n",
       " 'H_3',\n",
       " 'H_4',\n",
       " 'H_5',\n",
       " 'H_6',\n",
       " 'H_7',\n",
       " 'H_8',\n",
       " 'H_9',\n",
       " 'H_10',\n",
       " 'H_11',\n",
       " 'A_1',\n",
       " 'A_2',\n",
       " 'A_3',\n",
       " 'A_4',\n",
       " 'A_5',\n",
       " 'A_6',\n",
       " 'A_7',\n",
       " 'A_8',\n",
       " 'A_9',\n",
       " 'A_10',\n",
       " 'A_11']"
      ]
     },
     "metadata": {},
     "execution_count": 284
    }
   ],
   "source": [
    "list(matches)[-22:]"
   ]
  },
  {
   "cell_type": "code",
   "execution_count": 285,
   "metadata": {},
   "outputs": [],
   "source": [
    "matches1=matches"
   ]
  },
  {
   "cell_type": "code",
   "execution_count": 286,
   "metadata": {},
   "outputs": [
    {
     "output_type": "execute_result",
     "data": {
      "text/plain": [
       "                      H_1               H_2                H_3  \\\n",
       "0              Tom Heaton    Matthew Lowton      Michael Keane   \n",
       "1         Wayne Hennessey         Joel Ward         Scott Dann   \n",
       "2    Maarten Stekelenburg     Phil Jagielka  Ramiro Funes Mori   \n",
       "3         Eldin Jakupovic  Andrew Robertson      Curtis Davies   \n",
       "4         Willy Caballero      Bacary Sagna        John Stones   \n",
       "..                    ...               ...                ...   \n",
       "375        Simon Mignolet   Nathaniel Clyne       Dejan Lovren   \n",
       "376          Joel Pereira       Eric Bailly         Phil Jones   \n",
       "377        Fraser Forster     Cédric Soares       Maya Yoshida   \n",
       "378  Kristoffer Nordfeldt     Martin Olsson       Alfie Mawson   \n",
       "379        Heurelho Gomes     Daryl Janmaat      Valon Behrami   \n",
       "\n",
       "                     H_4                H_5                H_6  \\\n",
       "0                Ben Mee       Stephen Ward        Dean Marney   \n",
       "1            Pape Souaré     Damien Delaney    Andros Townsend   \n",
       "2          Mason Holgate    Leighton Baines     James McCarthy   \n",
       "3         Jake Livermore  Ahmed El Mohamady    Tom Huddlestone   \n",
       "4     Aleksandar Kolarov        Gaël Clichy    Raheem Sterling   \n",
       "..                   ...                ...                ...   \n",
       "375         James Milner         Joel Matip  Philippe Coutinho   \n",
       "376  Timothy Fosu-Mensah   Demetri Mitchell         Paul Pogba   \n",
       "377        Ryan Bertrand      Jack Stephens        Oriol Romeu   \n",
       "378   Federico Fernández      Kyle Naughton       Leon Britton   \n",
       "379         José Holebas      Brandon Mason     Nordin Amrabat   \n",
       "\n",
       "                     H_7                 H_8                H_9  \\\n",
       "0            David Jones         George Boyd      Scott Arfield   \n",
       "1          Wilfried Zaha      Lee Chung-Yong       Mile Jedinak   \n",
       "2          Idrissa Gueye        Gareth Barry    Gerard Deulofeu   \n",
       "3           David Meyler          Sam Clucas   Robert Snodgrass   \n",
       "4                 Nolito     Kevin De Bruyne        David Silva   \n",
       "..                   ...                 ...                ...   \n",
       "375  Georginio Wijnaldum        Adam Lallana           Emre Can   \n",
       "376        Axel Tuanzebe     Scott McTominay        Josh Harrop   \n",
       "377    James Ward-Prowse        Steven Davis     Nathan Redmond   \n",
       "378            Leroy Fer         Tom Carroll  Fernando Llorente   \n",
       "379        Tom Cleverley  Abdoulaye Doucouré     Etienne Capoue   \n",
       "\n",
       "                H_10  ...                  A_2                 A_3  \\\n",
       "0         Andre Gray  ...           Jordi Amat  Federico Fernández   \n",
       "1     Jason Puncheon  ...         Jonas Olsson         Jonny Evans   \n",
       "2       Ross Barkley  ...          Kyle Walker          Danny Rose   \n",
       "3     Abel Hernández  ...        Danny Simpson      Luis Hernández   \n",
       "4        Fernandinho  ...  Patrick van Aanholt       Younes Kaboul   \n",
       "..               ...  ...                  ...                 ...   \n",
       "375  Roberto Firmino  ...                Fabio       George Friend   \n",
       "376     Wayne Rooney  ...            Joel Ward       James Tomkins   \n",
       "377      Dusan Tadic  ...   Bruno Martins Indi      Ryan Shawcross   \n",
       "378      Jordan Ayew  ...          Jonny Evans         Marc Wilson   \n",
       "379     M'Baye Niang  ...      Vincent Kompany         Gaël Clichy   \n",
       "\n",
       "                   A_4               A_5               A_6              A_7  \\\n",
       "0        Kyle Naughton  Stephen Kingsley      Leon Britton        Leroy Fer   \n",
       "1       Gareth McAuley      Craig Dawson     Claudio Yacob    Craig Gardner   \n",
       "2    Toby Alderweireld    Jan Vertonghen       Erik Lamela   Victor Wanyama   \n",
       "3           Wes Morgan   Christian Fuchs  Danny Drinkwater     Demarai Gray   \n",
       "4          Donald Love       Lamine Koné      Jack Rodwell     Fabio Borini   \n",
       "..                 ...               ...               ...              ...   \n",
       "375         Ben Gibson    Calum Chambers  Grant Leadbitter     Adam Clayton   \n",
       "376    Jeffrey Schlupp      Martin Kelly  Luka Milivojevic   James McArthur   \n",
       "377      Geoff Cameron      Erik Pieters         Joe Allen     Glenn Whelan   \n",
       "378       Craig Dawson  Allan-Roméo Nyom     Claudio Yacob   Jake Livermore   \n",
       "379        Fernandinho  Nicolás Otamendi     Gabriel Jesus  Kevin De Bruyne   \n",
       "\n",
       "                  A_8                  A_9               A_10  \\\n",
       "0           Jack Cork    Fernando Llorente    Wayne Routledge   \n",
       "1       Matt Phillips      Darren Fletcher     Salomón Rondón   \n",
       "2           Eric Dier            Dele Alli  Christian Eriksen   \n",
       "3           Andy King         Riyad Mahrez        Jamie Vardy   \n",
       "4      Duncan Watmore          John O'Shea       Lynden Gooch   \n",
       "..                ...                  ...                ...   \n",
       "375      Adam Forshaw      Patrick Bamford       Rudy Gestede   \n",
       "376    Jason Puncheon  Patrick van Aanholt      Wilfried Zaha   \n",
       "377  Mame Biram Diouf      Xherdan Shaqiri       Peter Crouch   \n",
       "378       Chris Brunt      Darren Fletcher     James Morrison   \n",
       "379        Leroy Sané          David Silva         Yaya Touré   \n",
       "\n",
       "                  A_11  \n",
       "0         Modou Barrow  \n",
       "1       Saido Berahino  \n",
       "2           Harry Kane  \n",
       "3           Ahmed Musa  \n",
       "4        Jermain Defoe  \n",
       "..                 ...  \n",
       "375    Stewart Downing  \n",
       "376  Christian Benteke  \n",
       "377      Ramadan Sobhi  \n",
       "378     Salomón Rondón  \n",
       "379      Sergio Agüero  \n",
       "\n",
       "[380 rows x 22 columns]"
      ],
      "text/html": "<div>\n<style scoped>\n    .dataframe tbody tr th:only-of-type {\n        vertical-align: middle;\n    }\n\n    .dataframe tbody tr th {\n        vertical-align: top;\n    }\n\n    .dataframe thead th {\n        text-align: right;\n    }\n</style>\n<table border=\"1\" class=\"dataframe\">\n  <thead>\n    <tr style=\"text-align: right;\">\n      <th></th>\n      <th>H_1</th>\n      <th>H_2</th>\n      <th>H_3</th>\n      <th>H_4</th>\n      <th>H_5</th>\n      <th>H_6</th>\n      <th>H_7</th>\n      <th>H_8</th>\n      <th>H_9</th>\n      <th>H_10</th>\n      <th>...</th>\n      <th>A_2</th>\n      <th>A_3</th>\n      <th>A_4</th>\n      <th>A_5</th>\n      <th>A_6</th>\n      <th>A_7</th>\n      <th>A_8</th>\n      <th>A_9</th>\n      <th>A_10</th>\n      <th>A_11</th>\n    </tr>\n  </thead>\n  <tbody>\n    <tr>\n      <th>0</th>\n      <td>Tom Heaton</td>\n      <td>Matthew Lowton</td>\n      <td>Michael Keane</td>\n      <td>Ben Mee</td>\n      <td>Stephen Ward</td>\n      <td>Dean Marney</td>\n      <td>David Jones</td>\n      <td>George Boyd</td>\n      <td>Scott Arfield</td>\n      <td>Andre Gray</td>\n      <td>...</td>\n      <td>Jordi Amat</td>\n      <td>Federico Fernández</td>\n      <td>Kyle Naughton</td>\n      <td>Stephen Kingsley</td>\n      <td>Leon Britton</td>\n      <td>Leroy Fer</td>\n      <td>Jack Cork</td>\n      <td>Fernando Llorente</td>\n      <td>Wayne Routledge</td>\n      <td>Modou Barrow</td>\n    </tr>\n    <tr>\n      <th>1</th>\n      <td>Wayne Hennessey</td>\n      <td>Joel Ward</td>\n      <td>Scott Dann</td>\n      <td>Pape Souaré</td>\n      <td>Damien Delaney</td>\n      <td>Andros Townsend</td>\n      <td>Wilfried Zaha</td>\n      <td>Lee Chung-Yong</td>\n      <td>Mile Jedinak</td>\n      <td>Jason Puncheon</td>\n      <td>...</td>\n      <td>Jonas Olsson</td>\n      <td>Jonny Evans</td>\n      <td>Gareth McAuley</td>\n      <td>Craig Dawson</td>\n      <td>Claudio Yacob</td>\n      <td>Craig Gardner</td>\n      <td>Matt Phillips</td>\n      <td>Darren Fletcher</td>\n      <td>Salomón Rondón</td>\n      <td>Saido Berahino</td>\n    </tr>\n    <tr>\n      <th>2</th>\n      <td>Maarten Stekelenburg</td>\n      <td>Phil Jagielka</td>\n      <td>Ramiro Funes Mori</td>\n      <td>Mason Holgate</td>\n      <td>Leighton Baines</td>\n      <td>James McCarthy</td>\n      <td>Idrissa Gueye</td>\n      <td>Gareth Barry</td>\n      <td>Gerard Deulofeu</td>\n      <td>Ross Barkley</td>\n      <td>...</td>\n      <td>Kyle Walker</td>\n      <td>Danny Rose</td>\n      <td>Toby Alderweireld</td>\n      <td>Jan Vertonghen</td>\n      <td>Erik Lamela</td>\n      <td>Victor Wanyama</td>\n      <td>Eric Dier</td>\n      <td>Dele Alli</td>\n      <td>Christian Eriksen</td>\n      <td>Harry Kane</td>\n    </tr>\n    <tr>\n      <th>3</th>\n      <td>Eldin Jakupovic</td>\n      <td>Andrew Robertson</td>\n      <td>Curtis Davies</td>\n      <td>Jake Livermore</td>\n      <td>Ahmed El Mohamady</td>\n      <td>Tom Huddlestone</td>\n      <td>David Meyler</td>\n      <td>Sam Clucas</td>\n      <td>Robert Snodgrass</td>\n      <td>Abel Hernández</td>\n      <td>...</td>\n      <td>Danny Simpson</td>\n      <td>Luis Hernández</td>\n      <td>Wes Morgan</td>\n      <td>Christian Fuchs</td>\n      <td>Danny Drinkwater</td>\n      <td>Demarai Gray</td>\n      <td>Andy King</td>\n      <td>Riyad Mahrez</td>\n      <td>Jamie Vardy</td>\n      <td>Ahmed Musa</td>\n    </tr>\n    <tr>\n      <th>4</th>\n      <td>Willy Caballero</td>\n      <td>Bacary Sagna</td>\n      <td>John Stones</td>\n      <td>Aleksandar Kolarov</td>\n      <td>Gaël Clichy</td>\n      <td>Raheem Sterling</td>\n      <td>Nolito</td>\n      <td>Kevin De Bruyne</td>\n      <td>David Silva</td>\n      <td>Fernandinho</td>\n      <td>...</td>\n      <td>Patrick van Aanholt</td>\n      <td>Younes Kaboul</td>\n      <td>Donald Love</td>\n      <td>Lamine Koné</td>\n      <td>Jack Rodwell</td>\n      <td>Fabio Borini</td>\n      <td>Duncan Watmore</td>\n      <td>John O'Shea</td>\n      <td>Lynden Gooch</td>\n      <td>Jermain Defoe</td>\n    </tr>\n    <tr>\n      <th>...</th>\n      <td>...</td>\n      <td>...</td>\n      <td>...</td>\n      <td>...</td>\n      <td>...</td>\n      <td>...</td>\n      <td>...</td>\n      <td>...</td>\n      <td>...</td>\n      <td>...</td>\n      <td>...</td>\n      <td>...</td>\n      <td>...</td>\n      <td>...</td>\n      <td>...</td>\n      <td>...</td>\n      <td>...</td>\n      <td>...</td>\n      <td>...</td>\n      <td>...</td>\n      <td>...</td>\n    </tr>\n    <tr>\n      <th>375</th>\n      <td>Simon Mignolet</td>\n      <td>Nathaniel Clyne</td>\n      <td>Dejan Lovren</td>\n      <td>James Milner</td>\n      <td>Joel Matip</td>\n      <td>Philippe Coutinho</td>\n      <td>Georginio Wijnaldum</td>\n      <td>Adam Lallana</td>\n      <td>Emre Can</td>\n      <td>Roberto Firmino</td>\n      <td>...</td>\n      <td>Fabio</td>\n      <td>George Friend</td>\n      <td>Ben Gibson</td>\n      <td>Calum Chambers</td>\n      <td>Grant Leadbitter</td>\n      <td>Adam Clayton</td>\n      <td>Adam Forshaw</td>\n      <td>Patrick Bamford</td>\n      <td>Rudy Gestede</td>\n      <td>Stewart Downing</td>\n    </tr>\n    <tr>\n      <th>376</th>\n      <td>Joel Pereira</td>\n      <td>Eric Bailly</td>\n      <td>Phil Jones</td>\n      <td>Timothy Fosu-Mensah</td>\n      <td>Demetri Mitchell</td>\n      <td>Paul Pogba</td>\n      <td>Axel Tuanzebe</td>\n      <td>Scott McTominay</td>\n      <td>Josh Harrop</td>\n      <td>Wayne Rooney</td>\n      <td>...</td>\n      <td>Joel Ward</td>\n      <td>James Tomkins</td>\n      <td>Jeffrey Schlupp</td>\n      <td>Martin Kelly</td>\n      <td>Luka Milivojevic</td>\n      <td>James McArthur</td>\n      <td>Jason Puncheon</td>\n      <td>Patrick van Aanholt</td>\n      <td>Wilfried Zaha</td>\n      <td>Christian Benteke</td>\n    </tr>\n    <tr>\n      <th>377</th>\n      <td>Fraser Forster</td>\n      <td>Cédric Soares</td>\n      <td>Maya Yoshida</td>\n      <td>Ryan Bertrand</td>\n      <td>Jack Stephens</td>\n      <td>Oriol Romeu</td>\n      <td>James Ward-Prowse</td>\n      <td>Steven Davis</td>\n      <td>Nathan Redmond</td>\n      <td>Dusan Tadic</td>\n      <td>...</td>\n      <td>Bruno Martins Indi</td>\n      <td>Ryan Shawcross</td>\n      <td>Geoff Cameron</td>\n      <td>Erik Pieters</td>\n      <td>Joe Allen</td>\n      <td>Glenn Whelan</td>\n      <td>Mame Biram Diouf</td>\n      <td>Xherdan Shaqiri</td>\n      <td>Peter Crouch</td>\n      <td>Ramadan Sobhi</td>\n    </tr>\n    <tr>\n      <th>378</th>\n      <td>Kristoffer Nordfeldt</td>\n      <td>Martin Olsson</td>\n      <td>Alfie Mawson</td>\n      <td>Federico Fernández</td>\n      <td>Kyle Naughton</td>\n      <td>Leon Britton</td>\n      <td>Leroy Fer</td>\n      <td>Tom Carroll</td>\n      <td>Fernando Llorente</td>\n      <td>Jordan Ayew</td>\n      <td>...</td>\n      <td>Jonny Evans</td>\n      <td>Marc Wilson</td>\n      <td>Craig Dawson</td>\n      <td>Allan-Roméo Nyom</td>\n      <td>Claudio Yacob</td>\n      <td>Jake Livermore</td>\n      <td>Chris Brunt</td>\n      <td>Darren Fletcher</td>\n      <td>James Morrison</td>\n      <td>Salomón Rondón</td>\n    </tr>\n    <tr>\n      <th>379</th>\n      <td>Heurelho Gomes</td>\n      <td>Daryl Janmaat</td>\n      <td>Valon Behrami</td>\n      <td>José Holebas</td>\n      <td>Brandon Mason</td>\n      <td>Nordin Amrabat</td>\n      <td>Tom Cleverley</td>\n      <td>Abdoulaye Doucouré</td>\n      <td>Etienne Capoue</td>\n      <td>M'Baye Niang</td>\n      <td>...</td>\n      <td>Vincent Kompany</td>\n      <td>Gaël Clichy</td>\n      <td>Fernandinho</td>\n      <td>Nicolás Otamendi</td>\n      <td>Gabriel Jesus</td>\n      <td>Kevin De Bruyne</td>\n      <td>Leroy Sané</td>\n      <td>David Silva</td>\n      <td>Yaya Touré</td>\n      <td>Sergio Agüero</td>\n    </tr>\n  </tbody>\n</table>\n<p>380 rows × 22 columns</p>\n</div>"
     },
     "metadata": {},
     "execution_count": 286
    }
   ],
   "source": [
    "matches1[list(matches)[-22:]].astype(str)"
   ]
  },
  {
   "cell_type": "code",
   "execution_count": null,
   "metadata": {},
   "outputs": [],
   "source": []
  }
 ]
}