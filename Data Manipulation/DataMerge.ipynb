{
 "metadata": {
  "language_info": {
   "codemirror_mode": {
    "name": "ipython",
    "version": 3
   },
   "file_extension": ".py",
   "mimetype": "text/x-python",
   "name": "python",
   "nbconvert_exporter": "python",
   "pygments_lexer": "ipython3",
   "version": "3.7.4-final"
  },
  "orig_nbformat": 2,
  "kernelspec": {
   "name": "python37464bitksi01virtualenv940d07f21048472ab92d4775cf8c0cf6",
   "display_name": "Python 3.7.4 64-bit ('ksi01': virtualenv)"
  }
 },
 "nbformat": 4,
 "nbformat_minor": 2,
 "cells": [
  {
   "cell_type": "code",
   "execution_count": 149,
   "metadata": {},
   "outputs": [],
   "source": [
    "import pandas as pd"
   ]
  },
  {
   "cell_type": "code",
   "execution_count": 150,
   "metadata": {},
   "outputs": [],
   "source": [
    "matches = pd.read_csv('matchsquad2019.csv')\n",
    "players = pd.read_csv('playerdata2019.csv')"
   ]
  },
  {
   "cell_type": "code",
   "execution_count": 151,
   "metadata": {},
   "outputs": [
    {
     "output_type": "execute_result",
     "data": {
      "text/plain": [
       "         Date           HomeTeam           AwayTeam  Played Value H  \\\n",
       "0  2018-08-10  Manchester United     Leicester City             NaN   \n",
       "1  2018-08-11    AFC Bournemouth       Cardiff City             NaN   \n",
       "2  2018-08-11             Fulham     Crystal Palace             NaN   \n",
       "3  2018-08-11  Huddersfield Town            Chelsea             NaN   \n",
       "4  2018-08-11   Newcastle United  Tottenham Hotspur             NaN   \n",
       "\n",
       "   Played Value A  Total Value H  Total Value A  Attack H  Midfield H  \\\n",
       "0             NaN            NaN            NaN       NaN         NaN   \n",
       "1             NaN            NaN            NaN       NaN         NaN   \n",
       "2             NaN            NaN            NaN       NaN         NaN   \n",
       "3             NaN            NaN            NaN       NaN         NaN   \n",
       "4             NaN            NaN            NaN       NaN         NaN   \n",
       "\n",
       "   Defense H  ...                  A_2               A_3                A_4  \\\n",
       "0        NaN  ...         Ben Chilwell        Wes Morgan      Harry Maguire   \n",
       "1        NaN  ...          Lee Peltier       Joe Bennett      Sean Morrison   \n",
       "2        NaN  ...  Patrick van Aanholt     James Tomkins      Mamadou Sakho   \n",
       "3        NaN  ...      Antonio Rüdiger     Marcos Alonso  César Azpilicueta   \n",
       "4        NaN  ...       Jan Vertonghen  Davinson Sánchez       Serge Aurier   \n",
       "\n",
       "                  A_5               A_6              A_7  \\\n",
       "0      Daniel Amartey      Demarai Gray   James Maddison   \n",
       "1  Bruno Ecuele Manga         Joe Ralls  Callum Paterson   \n",
       "2   Aaron Wan-Bissaka  Luka Milivojevic  Andros Townsend   \n",
       "3          David Luiz          Jorginho     N'Golo Kanté   \n",
       "4          Ben Davies         Eric Dier   Moussa Sissoko   \n",
       "\n",
       "                      A_8                A_9                  A_10  \\\n",
       "0         Ricardo Pereira       Adrien Silva         Wilfred Ndidi   \n",
       "1  Nathaniel Mendez-Laing          Sol Bamba  David Junior Hoilett   \n",
       "2         Jeffrey Schlupp     James McArthur         Wilfried Zaha   \n",
       "3            Ross Barkley            Willian                 Pedro   \n",
       "4               Dele Alli  Christian Eriksen           Lucas Moura   \n",
       "\n",
       "                    A_11  \n",
       "0      Kelechi Iheanacho  \n",
       "1  Bobby De Cordova-Reid  \n",
       "2      Christian Benteke  \n",
       "3          Álvaro Morata  \n",
       "4             Harry Kane  \n",
       "\n",
       "[5 rows x 64 columns]"
      ],
      "text/html": "<div>\n<style scoped>\n    .dataframe tbody tr th:only-of-type {\n        vertical-align: middle;\n    }\n\n    .dataframe tbody tr th {\n        vertical-align: top;\n    }\n\n    .dataframe thead th {\n        text-align: right;\n    }\n</style>\n<table border=\"1\" class=\"dataframe\">\n  <thead>\n    <tr style=\"text-align: right;\">\n      <th></th>\n      <th>Date</th>\n      <th>HomeTeam</th>\n      <th>AwayTeam</th>\n      <th>Played Value H</th>\n      <th>Played Value A</th>\n      <th>Total Value H</th>\n      <th>Total Value A</th>\n      <th>Attack H</th>\n      <th>Midfield H</th>\n      <th>Defense H</th>\n      <th>...</th>\n      <th>A_2</th>\n      <th>A_3</th>\n      <th>A_4</th>\n      <th>A_5</th>\n      <th>A_6</th>\n      <th>A_7</th>\n      <th>A_8</th>\n      <th>A_9</th>\n      <th>A_10</th>\n      <th>A_11</th>\n    </tr>\n  </thead>\n  <tbody>\n    <tr>\n      <th>0</th>\n      <td>2018-08-10</td>\n      <td>Manchester United</td>\n      <td>Leicester City</td>\n      <td>NaN</td>\n      <td>NaN</td>\n      <td>NaN</td>\n      <td>NaN</td>\n      <td>NaN</td>\n      <td>NaN</td>\n      <td>NaN</td>\n      <td>...</td>\n      <td>Ben Chilwell</td>\n      <td>Wes Morgan</td>\n      <td>Harry Maguire</td>\n      <td>Daniel Amartey</td>\n      <td>Demarai Gray</td>\n      <td>James Maddison</td>\n      <td>Ricardo Pereira</td>\n      <td>Adrien Silva</td>\n      <td>Wilfred Ndidi</td>\n      <td>Kelechi Iheanacho</td>\n    </tr>\n    <tr>\n      <th>1</th>\n      <td>2018-08-11</td>\n      <td>AFC Bournemouth</td>\n      <td>Cardiff City</td>\n      <td>NaN</td>\n      <td>NaN</td>\n      <td>NaN</td>\n      <td>NaN</td>\n      <td>NaN</td>\n      <td>NaN</td>\n      <td>NaN</td>\n      <td>...</td>\n      <td>Lee Peltier</td>\n      <td>Joe Bennett</td>\n      <td>Sean Morrison</td>\n      <td>Bruno Ecuele Manga</td>\n      <td>Joe Ralls</td>\n      <td>Callum Paterson</td>\n      <td>Nathaniel Mendez-Laing</td>\n      <td>Sol Bamba</td>\n      <td>David Junior Hoilett</td>\n      <td>Bobby De Cordova-Reid</td>\n    </tr>\n    <tr>\n      <th>2</th>\n      <td>2018-08-11</td>\n      <td>Fulham</td>\n      <td>Crystal Palace</td>\n      <td>NaN</td>\n      <td>NaN</td>\n      <td>NaN</td>\n      <td>NaN</td>\n      <td>NaN</td>\n      <td>NaN</td>\n      <td>NaN</td>\n      <td>...</td>\n      <td>Patrick van Aanholt</td>\n      <td>James Tomkins</td>\n      <td>Mamadou Sakho</td>\n      <td>Aaron Wan-Bissaka</td>\n      <td>Luka Milivojevic</td>\n      <td>Andros Townsend</td>\n      <td>Jeffrey Schlupp</td>\n      <td>James McArthur</td>\n      <td>Wilfried Zaha</td>\n      <td>Christian Benteke</td>\n    </tr>\n    <tr>\n      <th>3</th>\n      <td>2018-08-11</td>\n      <td>Huddersfield Town</td>\n      <td>Chelsea</td>\n      <td>NaN</td>\n      <td>NaN</td>\n      <td>NaN</td>\n      <td>NaN</td>\n      <td>NaN</td>\n      <td>NaN</td>\n      <td>NaN</td>\n      <td>...</td>\n      <td>Antonio Rüdiger</td>\n      <td>Marcos Alonso</td>\n      <td>César Azpilicueta</td>\n      <td>David Luiz</td>\n      <td>Jorginho</td>\n      <td>N'Golo Kanté</td>\n      <td>Ross Barkley</td>\n      <td>Willian</td>\n      <td>Pedro</td>\n      <td>Álvaro Morata</td>\n    </tr>\n    <tr>\n      <th>4</th>\n      <td>2018-08-11</td>\n      <td>Newcastle United</td>\n      <td>Tottenham Hotspur</td>\n      <td>NaN</td>\n      <td>NaN</td>\n      <td>NaN</td>\n      <td>NaN</td>\n      <td>NaN</td>\n      <td>NaN</td>\n      <td>NaN</td>\n      <td>...</td>\n      <td>Jan Vertonghen</td>\n      <td>Davinson Sánchez</td>\n      <td>Serge Aurier</td>\n      <td>Ben Davies</td>\n      <td>Eric Dier</td>\n      <td>Moussa Sissoko</td>\n      <td>Dele Alli</td>\n      <td>Christian Eriksen</td>\n      <td>Lucas Moura</td>\n      <td>Harry Kane</td>\n    </tr>\n  </tbody>\n</table>\n<p>5 rows × 64 columns</p>\n</div>"
     },
     "metadata": {},
     "execution_count": 151
    }
   ],
   "source": [
    "matches.head()"
   ]
  },
  {
   "cell_type": "code",
   "execution_count": 152,
   "metadata": {},
   "outputs": [
    {
     "output_type": "execute_result",
     "data": {
      "text/plain": [
       "   Unnamed: 0             Name  MarketValue     Position            Teams\n",
       "0           0          Ederson     63000000   Goalkeeper  manchester-city\n",
       "1           1    Claudio Bravo      2250000   Goalkeeper  manchester-city\n",
       "2           2   Arijanet Muric      1800000   Goalkeeper  manchester-city\n",
       "3           3  Daniel Grimshaw            0   Goalkeeper  manchester-city\n",
       "4           4  Aymeric Laporte     67500000  Centre-Back  manchester-city"
      ],
      "text/html": "<div>\n<style scoped>\n    .dataframe tbody tr th:only-of-type {\n        vertical-align: middle;\n    }\n\n    .dataframe tbody tr th {\n        vertical-align: top;\n    }\n\n    .dataframe thead th {\n        text-align: right;\n    }\n</style>\n<table border=\"1\" class=\"dataframe\">\n  <thead>\n    <tr style=\"text-align: right;\">\n      <th></th>\n      <th>Unnamed: 0</th>\n      <th>Name</th>\n      <th>MarketValue</th>\n      <th>Position</th>\n      <th>Teams</th>\n    </tr>\n  </thead>\n  <tbody>\n    <tr>\n      <th>0</th>\n      <td>0</td>\n      <td>Ederson</td>\n      <td>63000000</td>\n      <td>Goalkeeper</td>\n      <td>manchester-city</td>\n    </tr>\n    <tr>\n      <th>1</th>\n      <td>1</td>\n      <td>Claudio Bravo</td>\n      <td>2250000</td>\n      <td>Goalkeeper</td>\n      <td>manchester-city</td>\n    </tr>\n    <tr>\n      <th>2</th>\n      <td>2</td>\n      <td>Arijanet Muric</td>\n      <td>1800000</td>\n      <td>Goalkeeper</td>\n      <td>manchester-city</td>\n    </tr>\n    <tr>\n      <th>3</th>\n      <td>3</td>\n      <td>Daniel Grimshaw</td>\n      <td>0</td>\n      <td>Goalkeeper</td>\n      <td>manchester-city</td>\n    </tr>\n    <tr>\n      <th>4</th>\n      <td>4</td>\n      <td>Aymeric Laporte</td>\n      <td>67500000</td>\n      <td>Centre-Back</td>\n      <td>manchester-city</td>\n    </tr>\n  </tbody>\n</table>\n</div>"
     },
     "metadata": {},
     "execution_count": 152
    }
   ],
   "source": [
    "players.head()"
   ]
  },
  {
   "cell_type": "code",
   "execution_count": 153,
   "metadata": {},
   "outputs": [],
   "source": [
    "# First, match the team names between the two files using fuzzywuzzy"
   ]
  },
  {
   "source": [
    "from fuzzywuzzy import fuzz\n",
    "from fuzzywuzzy import process as fuzzprocess"
   ],
   "cell_type": "code",
   "metadata": {},
   "execution_count": 154,
   "outputs": []
  },
  {
   "source": [
    "teams_matches=matches['HomeTeam'].unique().tolist()"
   ],
   "cell_type": "code",
   "metadata": {},
   "execution_count": 155,
   "outputs": []
  },
  {
   "cell_type": "code",
   "execution_count": 156,
   "metadata": {},
   "outputs": [
    {
     "output_type": "execute_result",
     "data": {
      "text/plain": [
       "20"
      ]
     },
     "metadata": {},
     "execution_count": 156
    }
   ],
   "source": [
    "#Check that there are twenty teams\n",
    "len(teams_matches)"
   ]
  },
  {
   "cell_type": "code",
   "execution_count": 157,
   "metadata": {},
   "outputs": [
    {
     "output_type": "execute_result",
     "data": {
      "text/plain": [
       "['Manchester United',\n",
       " 'AFC Bournemouth',\n",
       " 'Fulham',\n",
       " 'Huddersfield Town',\n",
       " 'Newcastle United',\n",
       " 'Watford',\n",
       " 'Wolverhampton Wanderers',\n",
       " 'Arsenal',\n",
       " 'Liverpool',\n",
       " 'Southampton',\n",
       " 'Cardiff City',\n",
       " 'Chelsea',\n",
       " 'Everton',\n",
       " 'Leicester City',\n",
       " 'Tottenham Hotspur',\n",
       " 'West Ham United',\n",
       " 'Brighton and Hove Albion',\n",
       " 'Burnley',\n",
       " 'Manchester City',\n",
       " 'Crystal Palace']"
      ]
     },
     "metadata": {},
     "execution_count": 157
    }
   ],
   "source": [
    "teams_matches"
   ]
  },
  {
   "cell_type": "code",
   "execution_count": 158,
   "metadata": {},
   "outputs": [],
   "source": [
    "teams_players=players['Teams'].unique().tolist()"
   ]
  },
  {
   "cell_type": "code",
   "execution_count": 159,
   "metadata": {},
   "outputs": [
    {
     "output_type": "execute_result",
     "data": {
      "text/plain": [
       "20"
      ]
     },
     "metadata": {},
     "execution_count": 159
    }
   ],
   "source": [
    "len(teams_players)"
   ]
  },
  {
   "cell_type": "code",
   "execution_count": 160,
   "metadata": {},
   "outputs": [
    {
     "output_type": "execute_result",
     "data": {
      "text/plain": [
       "['manchester-city',\n",
       " 'fc-chelsea',\n",
       " 'fc-liverpool',\n",
       " 'manchester-united',\n",
       " 'tottenham-hotspur',\n",
       " 'fc-arsenal',\n",
       " 'fc-everton',\n",
       " 'leicester-city',\n",
       " 'west-ham-united',\n",
       " 'fc-southampton',\n",
       " 'crystal-palace',\n",
       " 'fc-fulham',\n",
       " 'newcastle-united',\n",
       " 'fc-burnley',\n",
       " 'afc-bournemouth',\n",
       " 'brighton-amp-hove-albion',\n",
       " 'fc-watford',\n",
       " 'wolverhampton-wanderers',\n",
       " 'huddersfield-town',\n",
       " 'cardiff-city']"
      ]
     },
     "metadata": {},
     "execution_count": 160
    }
   ],
   "source": [
    "teams_players"
   ]
  },
  {
   "cell_type": "code",
   "execution_count": 161,
   "metadata": {},
   "outputs": [
    {
     "output_type": "stream",
     "name": "stdout",
     "text": [
      "The score between team Manchester United and team manchester-city is: 69\nThe score between team Manchester United and team fc-chelsea is: 37\nThe score between team Manchester United and team fc-liverpool is: 21\nThe score between team Manchester United and team manchester-united is: 82\nThe score between team Manchester United and team tottenham-hotspur is: 24\nThe score between team Manchester United and team fc-arsenal is: 30\nThe score between team Manchester United and team fc-everton is: 37\nThe score between team Manchester United and team leicester-city is: 52\nThe score between team Manchester United and team west-ham-united is: 50\nThe score between team Manchester United and team fc-southampton is: 26\nThe score between team Manchester United and team crystal-palace is: 26\nThe score between team Manchester United and team fc-fulham is: 15\nThe score between team Manchester United and team newcastle-united is: 61\nThe score between team Manchester United and team fc-burnley is: 30\nThe score between team Manchester United and team afc-bournemouth is: 31\nThe score between team Manchester United and team brighton-amp-hove-albion is: 20\nThe score between team Manchester United and team fc-watford is: 30\nThe score between team Manchester United and team wolverhampton-wanderers is: 25\nThe score between team Manchester United and team huddersfield-town is: 35\nThe score between team Manchester United and team cardiff-city is: 28\n"
     ]
    }
   ],
   "source": [
    "#Check that the scores are looking good\n",
    "for i in range(0,20):\n",
    "    print(\"The score between team \"+teams_matches[0]+\" and team \"+teams_players[i]+\" is: \"+str(fuzz.ratio(teams_matches[0],teams_players[i])))"
   ]
  },
  {
   "cell_type": "code",
   "execution_count": 162,
   "metadata": {},
   "outputs": [],
   "source": [
    "teamNameDict={}\n",
    "for i in range(0,20):\n",
    "    teamNameDict[teams_players[i]]=fuzzprocess.extract(teams_players[i],teams_matches,limit=1)[0][0]"
   ]
  },
  {
   "cell_type": "code",
   "execution_count": 163,
   "metadata": {},
   "outputs": [
    {
     "output_type": "execute_result",
     "data": {
      "text/plain": [
       "{'manchester-city': 'Manchester City',\n",
       " 'fc-chelsea': 'Chelsea',\n",
       " 'fc-liverpool': 'Liverpool',\n",
       " 'manchester-united': 'Manchester United',\n",
       " 'tottenham-hotspur': 'Tottenham Hotspur',\n",
       " 'fc-arsenal': 'Arsenal',\n",
       " 'fc-everton': 'Everton',\n",
       " 'leicester-city': 'Leicester City',\n",
       " 'west-ham-united': 'West Ham United',\n",
       " 'fc-southampton': 'Southampton',\n",
       " 'crystal-palace': 'Crystal Palace',\n",
       " 'fc-fulham': 'Fulham',\n",
       " 'newcastle-united': 'Newcastle United',\n",
       " 'fc-burnley': 'Burnley',\n",
       " 'afc-bournemouth': 'AFC Bournemouth',\n",
       " 'brighton-amp-hove-albion': 'Brighton and Hove Albion',\n",
       " 'fc-watford': 'Watford',\n",
       " 'wolverhampton-wanderers': 'Wolverhampton Wanderers',\n",
       " 'huddersfield-town': 'Huddersfield Town',\n",
       " 'cardiff-city': 'Cardiff City'}"
      ]
     },
     "metadata": {},
     "execution_count": 163
    }
   ],
   "source": [
    "teamNameDict"
   ]
  },
  {
   "cell_type": "code",
   "execution_count": 164,
   "metadata": {},
   "outputs": [],
   "source": [
    "players['Teams']=players['Teams'].map(teamNameDict)"
   ]
  },
  {
   "cell_type": "code",
   "execution_count": 165,
   "metadata": {},
   "outputs": [
    {
     "output_type": "execute_result",
     "data": {
      "text/plain": [
       "     Unnamed: 0             Name  MarketValue        Position            Teams\n",
       "0             0          Ederson     63000000      Goalkeeper  Manchester City\n",
       "1             1    Claudio Bravo      2250000      Goalkeeper  Manchester City\n",
       "2             2   Arijanet Muric      1800000      Goalkeeper  Manchester City\n",
       "3             3  Daniel Grimshaw            0      Goalkeeper  Manchester City\n",
       "4             4  Aymeric Laporte     67500000     Centre-Back  Manchester City\n",
       "..          ...              ...          ...             ...              ...\n",
       "764          30      Gary Madine      3600000  Centre-Forward     Cardiff City\n",
       "765          31       Danny Ward      1350000  Centre-Forward     Cardiff City\n",
       "766          32       Omar Bogle       450000  Centre-Forward     Cardiff City\n",
       "767          33      Rhys Healey       225000  Centre-Forward     Cardiff City\n",
       "768          34       Jack McKay            0  Centre-Forward     Cardiff City\n",
       "\n",
       "[769 rows x 5 columns]"
      ],
      "text/html": "<div>\n<style scoped>\n    .dataframe tbody tr th:only-of-type {\n        vertical-align: middle;\n    }\n\n    .dataframe tbody tr th {\n        vertical-align: top;\n    }\n\n    .dataframe thead th {\n        text-align: right;\n    }\n</style>\n<table border=\"1\" class=\"dataframe\">\n  <thead>\n    <tr style=\"text-align: right;\">\n      <th></th>\n      <th>Unnamed: 0</th>\n      <th>Name</th>\n      <th>MarketValue</th>\n      <th>Position</th>\n      <th>Teams</th>\n    </tr>\n  </thead>\n  <tbody>\n    <tr>\n      <th>0</th>\n      <td>0</td>\n      <td>Ederson</td>\n      <td>63000000</td>\n      <td>Goalkeeper</td>\n      <td>Manchester City</td>\n    </tr>\n    <tr>\n      <th>1</th>\n      <td>1</td>\n      <td>Claudio Bravo</td>\n      <td>2250000</td>\n      <td>Goalkeeper</td>\n      <td>Manchester City</td>\n    </tr>\n    <tr>\n      <th>2</th>\n      <td>2</td>\n      <td>Arijanet Muric</td>\n      <td>1800000</td>\n      <td>Goalkeeper</td>\n      <td>Manchester City</td>\n    </tr>\n    <tr>\n      <th>3</th>\n      <td>3</td>\n      <td>Daniel Grimshaw</td>\n      <td>0</td>\n      <td>Goalkeeper</td>\n      <td>Manchester City</td>\n    </tr>\n    <tr>\n      <th>4</th>\n      <td>4</td>\n      <td>Aymeric Laporte</td>\n      <td>67500000</td>\n      <td>Centre-Back</td>\n      <td>Manchester City</td>\n    </tr>\n    <tr>\n      <th>...</th>\n      <td>...</td>\n      <td>...</td>\n      <td>...</td>\n      <td>...</td>\n      <td>...</td>\n    </tr>\n    <tr>\n      <th>764</th>\n      <td>30</td>\n      <td>Gary Madine</td>\n      <td>3600000</td>\n      <td>Centre-Forward</td>\n      <td>Cardiff City</td>\n    </tr>\n    <tr>\n      <th>765</th>\n      <td>31</td>\n      <td>Danny Ward</td>\n      <td>1350000</td>\n      <td>Centre-Forward</td>\n      <td>Cardiff City</td>\n    </tr>\n    <tr>\n      <th>766</th>\n      <td>32</td>\n      <td>Omar Bogle</td>\n      <td>450000</td>\n      <td>Centre-Forward</td>\n      <td>Cardiff City</td>\n    </tr>\n    <tr>\n      <th>767</th>\n      <td>33</td>\n      <td>Rhys Healey</td>\n      <td>225000</td>\n      <td>Centre-Forward</td>\n      <td>Cardiff City</td>\n    </tr>\n    <tr>\n      <th>768</th>\n      <td>34</td>\n      <td>Jack McKay</td>\n      <td>0</td>\n      <td>Centre-Forward</td>\n      <td>Cardiff City</td>\n    </tr>\n  </tbody>\n</table>\n<p>769 rows × 5 columns</p>\n</div>"
     },
     "metadata": {},
     "execution_count": 165
    }
   ],
   "source": [
    "players"
   ]
  },
  {
   "cell_type": "code",
   "execution_count": 166,
   "metadata": {},
   "outputs": [],
   "source": [
    "totalValues={}"
   ]
  },
  {
   "cell_type": "code",
   "execution_count": 167,
   "metadata": {},
   "outputs": [],
   "source": [
    "for i in range(0,20):\n",
    "    temp=players['Teams']==teams_matches[i]\n",
    "    totalValues[teams_matches[i]]=sum(players[temp]['MarketValue'])"
   ]
  },
  {
   "cell_type": "code",
   "execution_count": 168,
   "metadata": {},
   "outputs": [],
   "source": [
    "matches['Total Value H']=matches['HomeTeam'].map(totalValues)"
   ]
  },
  {
   "cell_type": "code",
   "execution_count": 169,
   "metadata": {},
   "outputs": [],
   "source": [
    "matches['Total Value A']=matches['AwayTeam'].map(totalValues)"
   ]
  },
  {
   "cell_type": "code",
   "execution_count": 171,
   "metadata": {},
   "outputs": [
    {
     "output_type": "execute_result",
     "data": {
      "text/plain": [
       "           Date           HomeTeam                 AwayTeam  Played Value H  \\\n",
       "0    2018-08-10  Manchester United           Leicester City             NaN   \n",
       "1    2018-08-11    AFC Bournemouth             Cardiff City             NaN   \n",
       "2    2018-08-11             Fulham           Crystal Palace             NaN   \n",
       "3    2018-08-11  Huddersfield Town                  Chelsea             NaN   \n",
       "4    2018-08-11   Newcastle United        Tottenham Hotspur             NaN   \n",
       "..          ...                ...                      ...             ...   \n",
       "375  2019-05-12          Liverpool  Wolverhampton Wanderers             NaN   \n",
       "376  2019-05-12  Manchester United             Cardiff City             NaN   \n",
       "377  2019-05-12        Southampton        Huddersfield Town             NaN   \n",
       "378  2019-05-12  Tottenham Hotspur                  Everton             NaN   \n",
       "379  2019-05-12            Watford          West Ham United             NaN   \n",
       "\n",
       "     Played Value A  Total Value H  Total Value A  Attack H  Midfield H  \\\n",
       "0               NaN      717840000      390690000       NaN         NaN   \n",
       "1               NaN      278955000      101700000       NaN         NaN   \n",
       "2               NaN      228830000      260100000       NaN         NaN   \n",
       "3               NaN      123705000     1049990000       NaN         NaN   \n",
       "4               NaN      220186000      808740000       NaN         NaN   \n",
       "..              ...            ...            ...       ...         ...   \n",
       "375             NaN     1055160000      272615000       NaN         NaN   \n",
       "376             NaN      717840000      101700000       NaN         NaN   \n",
       "377             NaN      274860000      123705000       NaN         NaN   \n",
       "378             NaN      808740000      476190000       NaN         NaN   \n",
       "379             NaN      215190000      323100000       NaN         NaN   \n",
       "\n",
       "     Defense H  ...                  A_2               A_3  \\\n",
       "0          NaN  ...         Ben Chilwell        Wes Morgan   \n",
       "1          NaN  ...          Lee Peltier       Joe Bennett   \n",
       "2          NaN  ...  Patrick van Aanholt     James Tomkins   \n",
       "3          NaN  ...      Antonio Rüdiger     Marcos Alonso   \n",
       "4          NaN  ...       Jan Vertonghen  Davinson Sánchez   \n",
       "..         ...  ...                  ...               ...   \n",
       "375        NaN  ...         Ryan Bennett        Willy Boly   \n",
       "376        NaN  ...          Lee Peltier       Joe Bennett   \n",
       "377        NaN  ...          Tommy Smith   Terence Kongolo   \n",
       "378        NaN  ...        Michael Keane        Kurt Zouma   \n",
       "379        NaN  ...      Fabián Balbuena         Issa Diop   \n",
       "\n",
       "                       A_4                   A_5               A_6  \\\n",
       "0            Harry Maguire        Daniel Amartey      Demarai Gray   \n",
       "1            Sean Morrison    Bruno Ecuele Manga         Joe Ralls   \n",
       "2            Mamadou Sakho     Aaron Wan-Bissaka  Luka Milivojevic   \n",
       "3        César Azpilicueta            David Luiz          Jorginho   \n",
       "4             Serge Aurier            Ben Davies         Eric Dier   \n",
       "..                     ...                   ...               ...   \n",
       "375            Conor Coady          Matt Doherty       Rúben Neves   \n",
       "376          Sean Morrison    Bruno Ecuele Manga    Leandro Bacuna   \n",
       "377  Christopher Schindler  Jon Gorenc Stankovic     Jonathan Hogg   \n",
       "378            Lucas Digne            Yerry Mina  Gylfi Sigurdsson   \n",
       "379        Ryan Fredericks        Arthur Masuaku   Felipe Anderson   \n",
       "\n",
       "                 A_7                     A_8                     A_9  \\\n",
       "0     James Maddison         Ricardo Pereira            Adrien Silva   \n",
       "1    Callum Paterson  Nathaniel Mendez-Laing               Sol Bamba   \n",
       "2    Andros Townsend         Jeffrey Schlupp          James McArthur   \n",
       "3       N'Golo Kanté            Ross Barkley                 Willian   \n",
       "4     Moussa Sissoko               Dele Alli       Christian Eriksen   \n",
       "..               ...                     ...                     ...   \n",
       "375            Jonny           João Moutinho      Leander Dendoncker   \n",
       "376      Josh Murphy         Aron Gunnarsson  Nathaniel Mendez-Laing   \n",
       "377   Juninho Bacuna              Aaron Mooy          Alex Pritchard   \n",
       "378     Theo Walcott           Idrissa Gueye     Morgan Schneiderlin   \n",
       "379   Manuel Lanzini              Mark Noble         Michail Antonio   \n",
       "\n",
       "                     A_10                   A_11  \n",
       "0           Wilfred Ndidi      Kelechi Iheanacho  \n",
       "1    David Junior Hoilett  Bobby De Cordova-Reid  \n",
       "2           Wilfried Zaha      Christian Benteke  \n",
       "3                   Pedro          Álvaro Morata  \n",
       "4             Lucas Moura             Harry Kane  \n",
       "..                    ...                    ...  \n",
       "375          Raúl Jiménez             Diogo Jota  \n",
       "376        Kenneth Zohore  Bobby De Cordova-Reid  \n",
       "377          Karlan Grant           Isaac Mbenza  \n",
       "378               Bernard             Cenk Tosun  \n",
       "379           Declan Rice       Marko Arnautovic  \n",
       "\n",
       "[380 rows x 64 columns]"
      ],
      "text/html": "<div>\n<style scoped>\n    .dataframe tbody tr th:only-of-type {\n        vertical-align: middle;\n    }\n\n    .dataframe tbody tr th {\n        vertical-align: top;\n    }\n\n    .dataframe thead th {\n        text-align: right;\n    }\n</style>\n<table border=\"1\" class=\"dataframe\">\n  <thead>\n    <tr style=\"text-align: right;\">\n      <th></th>\n      <th>Date</th>\n      <th>HomeTeam</th>\n      <th>AwayTeam</th>\n      <th>Played Value H</th>\n      <th>Played Value A</th>\n      <th>Total Value H</th>\n      <th>Total Value A</th>\n      <th>Attack H</th>\n      <th>Midfield H</th>\n      <th>Defense H</th>\n      <th>...</th>\n      <th>A_2</th>\n      <th>A_3</th>\n      <th>A_4</th>\n      <th>A_5</th>\n      <th>A_6</th>\n      <th>A_7</th>\n      <th>A_8</th>\n      <th>A_9</th>\n      <th>A_10</th>\n      <th>A_11</th>\n    </tr>\n  </thead>\n  <tbody>\n    <tr>\n      <th>0</th>\n      <td>2018-08-10</td>\n      <td>Manchester United</td>\n      <td>Leicester City</td>\n      <td>NaN</td>\n      <td>NaN</td>\n      <td>717840000</td>\n      <td>390690000</td>\n      <td>NaN</td>\n      <td>NaN</td>\n      <td>NaN</td>\n      <td>...</td>\n      <td>Ben Chilwell</td>\n      <td>Wes Morgan</td>\n      <td>Harry Maguire</td>\n      <td>Daniel Amartey</td>\n      <td>Demarai Gray</td>\n      <td>James Maddison</td>\n      <td>Ricardo Pereira</td>\n      <td>Adrien Silva</td>\n      <td>Wilfred Ndidi</td>\n      <td>Kelechi Iheanacho</td>\n    </tr>\n    <tr>\n      <th>1</th>\n      <td>2018-08-11</td>\n      <td>AFC Bournemouth</td>\n      <td>Cardiff City</td>\n      <td>NaN</td>\n      <td>NaN</td>\n      <td>278955000</td>\n      <td>101700000</td>\n      <td>NaN</td>\n      <td>NaN</td>\n      <td>NaN</td>\n      <td>...</td>\n      <td>Lee Peltier</td>\n      <td>Joe Bennett</td>\n      <td>Sean Morrison</td>\n      <td>Bruno Ecuele Manga</td>\n      <td>Joe Ralls</td>\n      <td>Callum Paterson</td>\n      <td>Nathaniel Mendez-Laing</td>\n      <td>Sol Bamba</td>\n      <td>David Junior Hoilett</td>\n      <td>Bobby De Cordova-Reid</td>\n    </tr>\n    <tr>\n      <th>2</th>\n      <td>2018-08-11</td>\n      <td>Fulham</td>\n      <td>Crystal Palace</td>\n      <td>NaN</td>\n      <td>NaN</td>\n      <td>228830000</td>\n      <td>260100000</td>\n      <td>NaN</td>\n      <td>NaN</td>\n      <td>NaN</td>\n      <td>...</td>\n      <td>Patrick van Aanholt</td>\n      <td>James Tomkins</td>\n      <td>Mamadou Sakho</td>\n      <td>Aaron Wan-Bissaka</td>\n      <td>Luka Milivojevic</td>\n      <td>Andros Townsend</td>\n      <td>Jeffrey Schlupp</td>\n      <td>James McArthur</td>\n      <td>Wilfried Zaha</td>\n      <td>Christian Benteke</td>\n    </tr>\n    <tr>\n      <th>3</th>\n      <td>2018-08-11</td>\n      <td>Huddersfield Town</td>\n      <td>Chelsea</td>\n      <td>NaN</td>\n      <td>NaN</td>\n      <td>123705000</td>\n      <td>1049990000</td>\n      <td>NaN</td>\n      <td>NaN</td>\n      <td>NaN</td>\n      <td>...</td>\n      <td>Antonio Rüdiger</td>\n      <td>Marcos Alonso</td>\n      <td>César Azpilicueta</td>\n      <td>David Luiz</td>\n      <td>Jorginho</td>\n      <td>N'Golo Kanté</td>\n      <td>Ross Barkley</td>\n      <td>Willian</td>\n      <td>Pedro</td>\n      <td>Álvaro Morata</td>\n    </tr>\n    <tr>\n      <th>4</th>\n      <td>2018-08-11</td>\n      <td>Newcastle United</td>\n      <td>Tottenham Hotspur</td>\n      <td>NaN</td>\n      <td>NaN</td>\n      <td>220186000</td>\n      <td>808740000</td>\n      <td>NaN</td>\n      <td>NaN</td>\n      <td>NaN</td>\n      <td>...</td>\n      <td>Jan Vertonghen</td>\n      <td>Davinson Sánchez</td>\n      <td>Serge Aurier</td>\n      <td>Ben Davies</td>\n      <td>Eric Dier</td>\n      <td>Moussa Sissoko</td>\n      <td>Dele Alli</td>\n      <td>Christian Eriksen</td>\n      <td>Lucas Moura</td>\n      <td>Harry Kane</td>\n    </tr>\n    <tr>\n      <th>...</th>\n      <td>...</td>\n      <td>...</td>\n      <td>...</td>\n      <td>...</td>\n      <td>...</td>\n      <td>...</td>\n      <td>...</td>\n      <td>...</td>\n      <td>...</td>\n      <td>...</td>\n      <td>...</td>\n      <td>...</td>\n      <td>...</td>\n      <td>...</td>\n      <td>...</td>\n      <td>...</td>\n      <td>...</td>\n      <td>...</td>\n      <td>...</td>\n      <td>...</td>\n      <td>...</td>\n    </tr>\n    <tr>\n      <th>375</th>\n      <td>2019-05-12</td>\n      <td>Liverpool</td>\n      <td>Wolverhampton Wanderers</td>\n      <td>NaN</td>\n      <td>NaN</td>\n      <td>1055160000</td>\n      <td>272615000</td>\n      <td>NaN</td>\n      <td>NaN</td>\n      <td>NaN</td>\n      <td>...</td>\n      <td>Ryan Bennett</td>\n      <td>Willy Boly</td>\n      <td>Conor Coady</td>\n      <td>Matt Doherty</td>\n      <td>Rúben Neves</td>\n      <td>Jonny</td>\n      <td>João Moutinho</td>\n      <td>Leander Dendoncker</td>\n      <td>Raúl Jiménez</td>\n      <td>Diogo Jota</td>\n    </tr>\n    <tr>\n      <th>376</th>\n      <td>2019-05-12</td>\n      <td>Manchester United</td>\n      <td>Cardiff City</td>\n      <td>NaN</td>\n      <td>NaN</td>\n      <td>717840000</td>\n      <td>101700000</td>\n      <td>NaN</td>\n      <td>NaN</td>\n      <td>NaN</td>\n      <td>...</td>\n      <td>Lee Peltier</td>\n      <td>Joe Bennett</td>\n      <td>Sean Morrison</td>\n      <td>Bruno Ecuele Manga</td>\n      <td>Leandro Bacuna</td>\n      <td>Josh Murphy</td>\n      <td>Aron Gunnarsson</td>\n      <td>Nathaniel Mendez-Laing</td>\n      <td>Kenneth Zohore</td>\n      <td>Bobby De Cordova-Reid</td>\n    </tr>\n    <tr>\n      <th>377</th>\n      <td>2019-05-12</td>\n      <td>Southampton</td>\n      <td>Huddersfield Town</td>\n      <td>NaN</td>\n      <td>NaN</td>\n      <td>274860000</td>\n      <td>123705000</td>\n      <td>NaN</td>\n      <td>NaN</td>\n      <td>NaN</td>\n      <td>...</td>\n      <td>Tommy Smith</td>\n      <td>Terence Kongolo</td>\n      <td>Christopher Schindler</td>\n      <td>Jon Gorenc Stankovic</td>\n      <td>Jonathan Hogg</td>\n      <td>Juninho Bacuna</td>\n      <td>Aaron Mooy</td>\n      <td>Alex Pritchard</td>\n      <td>Karlan Grant</td>\n      <td>Isaac Mbenza</td>\n    </tr>\n    <tr>\n      <th>378</th>\n      <td>2019-05-12</td>\n      <td>Tottenham Hotspur</td>\n      <td>Everton</td>\n      <td>NaN</td>\n      <td>NaN</td>\n      <td>808740000</td>\n      <td>476190000</td>\n      <td>NaN</td>\n      <td>NaN</td>\n      <td>NaN</td>\n      <td>...</td>\n      <td>Michael Keane</td>\n      <td>Kurt Zouma</td>\n      <td>Lucas Digne</td>\n      <td>Yerry Mina</td>\n      <td>Gylfi Sigurdsson</td>\n      <td>Theo Walcott</td>\n      <td>Idrissa Gueye</td>\n      <td>Morgan Schneiderlin</td>\n      <td>Bernard</td>\n      <td>Cenk Tosun</td>\n    </tr>\n    <tr>\n      <th>379</th>\n      <td>2019-05-12</td>\n      <td>Watford</td>\n      <td>West Ham United</td>\n      <td>NaN</td>\n      <td>NaN</td>\n      <td>215190000</td>\n      <td>323100000</td>\n      <td>NaN</td>\n      <td>NaN</td>\n      <td>NaN</td>\n      <td>...</td>\n      <td>Fabián Balbuena</td>\n      <td>Issa Diop</td>\n      <td>Ryan Fredericks</td>\n      <td>Arthur Masuaku</td>\n      <td>Felipe Anderson</td>\n      <td>Manuel Lanzini</td>\n      <td>Mark Noble</td>\n      <td>Michail Antonio</td>\n      <td>Declan Rice</td>\n      <td>Marko Arnautovic</td>\n    </tr>\n  </tbody>\n</table>\n<p>380 rows × 64 columns</p>\n</div>"
     },
     "metadata": {},
     "execution_count": 171
    }
   ],
   "source": [
    "matches"
   ]
  },
  {
   "cell_type": "code",
   "execution_count": 172,
   "metadata": {},
   "outputs": [],
   "source": [
    "def calculators(inputRow):\n",
    "    dataContainer={}\n",
    "    dataContainer['Played Value H']=0\n",
    "    dataContainer['Played Value A']=0\n",
    "    dataContainer['Defense H']=0\n",
    "    dataContainer['Defense A']=0\n",
    "    dataContainer['Attack H']=0\n",
    "    dataContainer['Attack A']=0\n",
    "    dataContainer['Midfield H']=0\n",
    "    dataContainer['Midfield A']=0\n",
    "    dataContainer['Goalie H']=0\n",
    "    dataContainer['Goalie A']=0\n",
    "    dataContainer['Attack Count H']=0\n",
    "    dataContainer['Defense Count H']=0\n",
    "    dataContainer['Goalie Count H']=0\n",
    "    dataContainer['Midfield Count H']=0\n",
    "    dataContainer['Attack Count A']=0\n",
    "    dataContainer['Defense Count A']=0\n",
    "    dataContainer['Goalie Count A']=0\n",
    "    dataContainer['Midfield Count A']=0\n",
    "\n",
    "    hometeam=inputRow['HomeTeam']\n",
    "    awayteam=inputRow['AwayTeam']\n",
    "    homeTeamPlayers=players[players['Teams']==hometeam]\n",
    "    awayTeamPlayers=players[players['Teams']==awayteam]\n",
    "    homeTeamPlayerList=homeTeamPlayers['Name'].tolist()\n",
    "    awayTeamPlayerList=awayTeamPlayers['Name'].tolist()\n",
    "\n",
    "    playedHome=inputRow[42:53].tolist()\n",
    "    playedAway=inputRow[53:64].tolist()\n",
    "\n",
    "\n",
    "    for i in range(0,11):\n",
    "        standardNameH=fuzzprocess.extract(playedHome[i],homeTeamPlayerList)[0][0]\n",
    "        standardNameA=fuzzprocess.extract(playedAway[i],awayTeamPlayerList)[0][0]\n",
    "\n",
    "        homeRow=homeTeamPlayers[homeTeamPlayers['Name']==standardNameH]\n",
    "        awayRow=awayTeamPlayers[awayTeamPlayers['Name']==standardNameA]\n",
    "\n",
    "        dataContainer['Played Value H']+= homeRow['MarketValue'].values[0]\n",
    "        dataContainer['Played Value A']+= awayRow['MarketValue'].values[0]\n",
    "\n",
    "        if homeRow['Position'].values[0] in ['Centre-Back','Left-Back','Right-Back']:\n",
    "            dataContainer['Defense H']+=homeRow['MarketValue'].values[0]\n",
    "            dataContainer['Defense Count H']+=1\n",
    "        elif homeRow['Position'].values[0] in ['Left Winger', 'Right Winger', 'Centre-Forward', 'Forward']:\n",
    "            dataContainer['Attack H']+=homeRow['MarketValue'].values[0]\n",
    "            dataContainer['Attack Count H']+=1\n",
    "        elif homeRow['Position'].values[0]=='Goalkeeper':\n",
    "            dataContainer['Goalie H']+=homeRow['MarketValue'].values[0]\n",
    "            dataContainer['Goalie Count H']+=1\n",
    "        else:\n",
    "            dataContainer['Midfield H']+=homeRow['MarketValue'].values[0]\n",
    "            dataContainer['Midfield Count H']+=1\n",
    "\n",
    "        if awayRow['Position'].values[0] in ['Centre-Back','Left-Back','Right-Back']:\n",
    "            dataContainer['Defense A']+=awayRow['MarketValue'].values[0]\n",
    "            dataContainer['Defense Count A']+=1\n",
    "        elif awayRow['Position'].values[0] in ['Left Winger', 'Right Winger', 'Centre-Forward', 'Forward']:\n",
    "            dataContainer['Attack A']+=awayRow['MarketValue'].values[0]\n",
    "            dataContainer['Attack Count A']+=1\n",
    "        elif awayRow['Position'].values[0]=='Goalkeeper':\n",
    "            dataContainer['Goalie A']+=awayRow['MarketValue'].values[0]\n",
    "            dataContainer['Goalie Count A']+=1\n",
    "        else:\n",
    "            dataContainer['Midfield A']+=awayRow['MarketValue'].values[0]\n",
    "            dataContainer['Midfield Count A']+=1\n",
    "\n",
    "    return dataContainer\n",
    "        "
   ]
  },
  {
   "cell_type": "code",
   "execution_count": 173,
   "metadata": {},
   "outputs": [],
   "source": [
    "players['Name'] = players['Name'].astype('|S')"
   ]
  },
  {
   "cell_type": "code",
   "execution_count": 174,
   "metadata": {},
   "outputs": [],
   "source": [
    "matches[list(matches)[-22:]]=matches[list(matches)[-22:]].astype(str)"
   ]
  },
  {
   "cell_type": "code",
   "execution_count": 175,
   "metadata": {},
   "outputs": [],
   "source": [
    "for i in matches.index:\n",
    "    dataTemp=calculators(matches.loc[i])\n",
    "    for key in dataTemp.keys(): \n",
    "        matches.at[i,key] = dataTemp[key]"
   ]
  },
  {
   "cell_type": "code",
   "execution_count": 176,
   "metadata": {},
   "outputs": [],
   "source": [
    "matches=matches.drop(['Referee'],axis=1)"
   ]
  },
  {
   "cell_type": "code",
   "execution_count": 177,
   "metadata": {},
   "outputs": [],
   "source": [
    "matches=matches.drop(matches.columns[41:],axis=1)"
   ]
  },
  {
   "cell_type": "code",
   "execution_count": 178,
   "metadata": {},
   "outputs": [],
   "source": [
    "test=matches\n",
    "for i in range(3,15):\n",
    "    indicies=matches[matches.iloc[:,i]==0].index\n",
    "    if indicies.all()!=None:\n",
    "        test.drop(indicies,inplace=True)\n",
    "test.drop(test.iloc[:,15:23],axis=1,inplace=True)"
   ]
  },
  {
   "cell_type": "code",
   "execution_count": 179,
   "metadata": {},
   "outputs": [
    {
     "output_type": "execute_result",
     "data": {
      "text/plain": [
       "           Date           HomeTeam                 AwayTeam  Played Value H  \\\n",
       "0    2018-08-10  Manchester United           Leicester City     396000000.0   \n",
       "1    2018-08-11    AFC Bournemouth             Cardiff City     155700000.0   \n",
       "2    2018-08-11             Fulham           Crystal Palace     144450000.0   \n",
       "3    2018-08-11  Huddersfield Town                  Chelsea      72000000.0   \n",
       "4    2018-08-11   Newcastle United        Tottenham Hotspur      96300000.0   \n",
       "..          ...                ...                      ...             ...   \n",
       "375  2019-05-12          Liverpool  Wolverhampton Wanderers     688500000.0   \n",
       "376  2019-05-12  Manchester United             Cardiff City     334800000.0   \n",
       "377  2019-05-12        Southampton        Huddersfield Town     126000000.0   \n",
       "378  2019-05-12  Tottenham Hotspur                  Everton     369000000.0   \n",
       "379  2019-05-12            Watford          West Ham United     109800000.0   \n",
       "\n",
       "     Played Value A  Total Value H  Total Value A     Attack H   Midfield H  \\\n",
       "0       225900000.0      717840000      390690000  103500000.0  144000000.0   \n",
       "1        44100000.0      278955000      101700000   81000000.0   23400000.0   \n",
       "2       166500000.0      228830000      260100000   22500000.0   61200000.0   \n",
       "3       459000000.0      123705000     1049990000    9000000.0   30150000.0   \n",
       "4       536400000.0      220186000      808740000   30600000.0   18000000.0   \n",
       "..              ...            ...            ...          ...          ...   \n",
       "375     204300000.0     1055160000      272615000  261000000.0  121500000.0   \n",
       "376      50400000.0      717840000      101700000   72000000.0  150300000.0   \n",
       "377      60300000.0      274860000      123705000   37800000.0   38700000.0   \n",
       "378     252900000.0      808740000      476190000   55350000.0  193500000.0   \n",
       "379     203400000.0      215190000      323100000   31500000.0   57600000.0   \n",
       "\n",
       "       Defense H  ...  HST  AST  HF  AF  HC  AC  HY AY  HR  AR  \n",
       "0     90000000.0  ...    6    4  11   8   2   5   2  1   0   0  \n",
       "1     45000000.0  ...    4    1  11   9   7   4   1  1   0   0  \n",
       "2     57150000.0  ...    6    9   9  11   5   5   1  2   0   0  \n",
       "3     32400000.0  ...    1    4   9   8   2   5   2  1   0   0  \n",
       "4     41400000.0  ...    2    5  11  12   3   5   2  2   0   0  \n",
       "..           ...  ...  ...  ...  ..  ..  ..  ..  .. ..  ..  ..  \n",
       "375  234000000.0  ...    5    2   3  11   4   1   0  2   0   0  \n",
       "376   54000000.0  ...   10    4   9   6  11   2   3  3   0   0  \n",
       "377   40500000.0  ...    3    3   8   6   4   3   0  1   0   0  \n",
       "378   97650000.0  ...    3    9  10  13   7   4   0  2   0   0  \n",
       "379   18000000.0  ...    8    9  10  10   7   2   1  0   1   0  \n",
       "\n",
       "[380 rows x 33 columns]"
      ],
      "text/html": "<div>\n<style scoped>\n    .dataframe tbody tr th:only-of-type {\n        vertical-align: middle;\n    }\n\n    .dataframe tbody tr th {\n        vertical-align: top;\n    }\n\n    .dataframe thead th {\n        text-align: right;\n    }\n</style>\n<table border=\"1\" class=\"dataframe\">\n  <thead>\n    <tr style=\"text-align: right;\">\n      <th></th>\n      <th>Date</th>\n      <th>HomeTeam</th>\n      <th>AwayTeam</th>\n      <th>Played Value H</th>\n      <th>Played Value A</th>\n      <th>Total Value H</th>\n      <th>Total Value A</th>\n      <th>Attack H</th>\n      <th>Midfield H</th>\n      <th>Defense H</th>\n      <th>...</th>\n      <th>HST</th>\n      <th>AST</th>\n      <th>HF</th>\n      <th>AF</th>\n      <th>HC</th>\n      <th>AC</th>\n      <th>HY</th>\n      <th>AY</th>\n      <th>HR</th>\n      <th>AR</th>\n    </tr>\n  </thead>\n  <tbody>\n    <tr>\n      <th>0</th>\n      <td>2018-08-10</td>\n      <td>Manchester United</td>\n      <td>Leicester City</td>\n      <td>396000000.0</td>\n      <td>225900000.0</td>\n      <td>717840000</td>\n      <td>390690000</td>\n      <td>103500000.0</td>\n      <td>144000000.0</td>\n      <td>90000000.0</td>\n      <td>...</td>\n      <td>6</td>\n      <td>4</td>\n      <td>11</td>\n      <td>8</td>\n      <td>2</td>\n      <td>5</td>\n      <td>2</td>\n      <td>1</td>\n      <td>0</td>\n      <td>0</td>\n    </tr>\n    <tr>\n      <th>1</th>\n      <td>2018-08-11</td>\n      <td>AFC Bournemouth</td>\n      <td>Cardiff City</td>\n      <td>155700000.0</td>\n      <td>44100000.0</td>\n      <td>278955000</td>\n      <td>101700000</td>\n      <td>81000000.0</td>\n      <td>23400000.0</td>\n      <td>45000000.0</td>\n      <td>...</td>\n      <td>4</td>\n      <td>1</td>\n      <td>11</td>\n      <td>9</td>\n      <td>7</td>\n      <td>4</td>\n      <td>1</td>\n      <td>1</td>\n      <td>0</td>\n      <td>0</td>\n    </tr>\n    <tr>\n      <th>2</th>\n      <td>2018-08-11</td>\n      <td>Fulham</td>\n      <td>Crystal Palace</td>\n      <td>144450000.0</td>\n      <td>166500000.0</td>\n      <td>228830000</td>\n      <td>260100000</td>\n      <td>22500000.0</td>\n      <td>61200000.0</td>\n      <td>57150000.0</td>\n      <td>...</td>\n      <td>6</td>\n      <td>9</td>\n      <td>9</td>\n      <td>11</td>\n      <td>5</td>\n      <td>5</td>\n      <td>1</td>\n      <td>2</td>\n      <td>0</td>\n      <td>0</td>\n    </tr>\n    <tr>\n      <th>3</th>\n      <td>2018-08-11</td>\n      <td>Huddersfield Town</td>\n      <td>Chelsea</td>\n      <td>72000000.0</td>\n      <td>459000000.0</td>\n      <td>123705000</td>\n      <td>1049990000</td>\n      <td>9000000.0</td>\n      <td>30150000.0</td>\n      <td>32400000.0</td>\n      <td>...</td>\n      <td>1</td>\n      <td>4</td>\n      <td>9</td>\n      <td>8</td>\n      <td>2</td>\n      <td>5</td>\n      <td>2</td>\n      <td>1</td>\n      <td>0</td>\n      <td>0</td>\n    </tr>\n    <tr>\n      <th>4</th>\n      <td>2018-08-11</td>\n      <td>Newcastle United</td>\n      <td>Tottenham Hotspur</td>\n      <td>96300000.0</td>\n      <td>536400000.0</td>\n      <td>220186000</td>\n      <td>808740000</td>\n      <td>30600000.0</td>\n      <td>18000000.0</td>\n      <td>41400000.0</td>\n      <td>...</td>\n      <td>2</td>\n      <td>5</td>\n      <td>11</td>\n      <td>12</td>\n      <td>3</td>\n      <td>5</td>\n      <td>2</td>\n      <td>2</td>\n      <td>0</td>\n      <td>0</td>\n    </tr>\n    <tr>\n      <th>...</th>\n      <td>...</td>\n      <td>...</td>\n      <td>...</td>\n      <td>...</td>\n      <td>...</td>\n      <td>...</td>\n      <td>...</td>\n      <td>...</td>\n      <td>...</td>\n      <td>...</td>\n      <td>...</td>\n      <td>...</td>\n      <td>...</td>\n      <td>...</td>\n      <td>...</td>\n      <td>...</td>\n      <td>...</td>\n      <td>...</td>\n      <td>...</td>\n      <td>...</td>\n      <td>...</td>\n    </tr>\n    <tr>\n      <th>375</th>\n      <td>2019-05-12</td>\n      <td>Liverpool</td>\n      <td>Wolverhampton Wanderers</td>\n      <td>688500000.0</td>\n      <td>204300000.0</td>\n      <td>1055160000</td>\n      <td>272615000</td>\n      <td>261000000.0</td>\n      <td>121500000.0</td>\n      <td>234000000.0</td>\n      <td>...</td>\n      <td>5</td>\n      <td>2</td>\n      <td>3</td>\n      <td>11</td>\n      <td>4</td>\n      <td>1</td>\n      <td>0</td>\n      <td>2</td>\n      <td>0</td>\n      <td>0</td>\n    </tr>\n    <tr>\n      <th>376</th>\n      <td>2019-05-12</td>\n      <td>Manchester United</td>\n      <td>Cardiff City</td>\n      <td>334800000.0</td>\n      <td>50400000.0</td>\n      <td>717840000</td>\n      <td>101700000</td>\n      <td>72000000.0</td>\n      <td>150300000.0</td>\n      <td>54000000.0</td>\n      <td>...</td>\n      <td>10</td>\n      <td>4</td>\n      <td>9</td>\n      <td>6</td>\n      <td>11</td>\n      <td>2</td>\n      <td>3</td>\n      <td>3</td>\n      <td>0</td>\n      <td>0</td>\n    </tr>\n    <tr>\n      <th>377</th>\n      <td>2019-05-12</td>\n      <td>Southampton</td>\n      <td>Huddersfield Town</td>\n      <td>126000000.0</td>\n      <td>60300000.0</td>\n      <td>274860000</td>\n      <td>123705000</td>\n      <td>37800000.0</td>\n      <td>38700000.0</td>\n      <td>40500000.0</td>\n      <td>...</td>\n      <td>3</td>\n      <td>3</td>\n      <td>8</td>\n      <td>6</td>\n      <td>4</td>\n      <td>3</td>\n      <td>0</td>\n      <td>1</td>\n      <td>0</td>\n      <td>0</td>\n    </tr>\n    <tr>\n      <th>378</th>\n      <td>2019-05-12</td>\n      <td>Tottenham Hotspur</td>\n      <td>Everton</td>\n      <td>369000000.0</td>\n      <td>252900000.0</td>\n      <td>808740000</td>\n      <td>476190000</td>\n      <td>55350000.0</td>\n      <td>193500000.0</td>\n      <td>97650000.0</td>\n      <td>...</td>\n      <td>3</td>\n      <td>9</td>\n      <td>10</td>\n      <td>13</td>\n      <td>7</td>\n      <td>4</td>\n      <td>0</td>\n      <td>2</td>\n      <td>0</td>\n      <td>0</td>\n    </tr>\n    <tr>\n      <th>379</th>\n      <td>2019-05-12</td>\n      <td>Watford</td>\n      <td>West Ham United</td>\n      <td>109800000.0</td>\n      <td>203400000.0</td>\n      <td>215190000</td>\n      <td>323100000</td>\n      <td>31500000.0</td>\n      <td>57600000.0</td>\n      <td>18000000.0</td>\n      <td>...</td>\n      <td>8</td>\n      <td>9</td>\n      <td>10</td>\n      <td>10</td>\n      <td>7</td>\n      <td>2</td>\n      <td>1</td>\n      <td>0</td>\n      <td>1</td>\n      <td>0</td>\n    </tr>\n  </tbody>\n</table>\n<p>380 rows × 33 columns</p>\n</div>"
     },
     "metadata": {},
     "execution_count": 179
    }
   ],
   "source": [
    "test"
   ]
  },
  {
   "cell_type": "code",
   "execution_count": 180,
   "metadata": {},
   "outputs": [
    {
     "output_type": "execute_result",
     "data": {
      "text/plain": [
       "Date              False\n",
       "HomeTeam          False\n",
       "AwayTeam          False\n",
       "Played Value H    False\n",
       "Played Value A    False\n",
       "Total Value H     False\n",
       "Total Value A     False\n",
       "Attack H          False\n",
       "Midfield H        False\n",
       "Defense H         False\n",
       "Goalie H          False\n",
       "Attack A          False\n",
       "Midfield A        False\n",
       "Defense A         False\n",
       "Goalie A          False\n",
       "FTHG              False\n",
       "FTAG              False\n",
       "FTR               False\n",
       "HTHG              False\n",
       "HTAG              False\n",
       "HTR               False\n",
       "HS                False\n",
       "AS                False\n",
       "HST               False\n",
       "AST               False\n",
       "HF                False\n",
       "AF                False\n",
       "HC                False\n",
       "AC                False\n",
       "HY                False\n",
       "AY                False\n",
       "HR                False\n",
       "AR                False\n",
       "dtype: bool"
      ]
     },
     "metadata": {},
     "execution_count": 180
    }
   ],
   "source": [
    "test.isna().any()"
   ]
  },
  {
   "cell_type": "code",
   "execution_count": 181,
   "metadata": {},
   "outputs": [],
   "source": [
    "test.to_csv('test.csv')"
   ]
  },
  {
   "cell_type": "code",
   "execution_count": null,
   "metadata": {},
   "outputs": [],
   "source": []
  },
  {
   "cell_type": "code",
   "execution_count": null,
   "metadata": {},
   "outputs": [],
   "source": []
  }
 ]
}